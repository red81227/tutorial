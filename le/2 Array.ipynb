{
 "cells": [
  {
   "cell_type": "markdown",
   "metadata": {},
   "source": [
    "# Array"
   ]
  },
  {
   "cell_type": "markdown",
   "metadata": {},
   "source": [
    "## 亂數產生的 array"
   ]
  },
  {
   "cell_type": "code",
   "execution_count": 2,
   "metadata": {},
   "outputs": [],
   "source": [
    "import numpy as np\n",
    "import pandas as pd"
   ]
  },
  {
   "cell_type": "code",
   "execution_count": null,
   "metadata": {
    "scrolled": true
   },
   "outputs": [],
   "source": [
    "np.random.randint(1,10,8) # 1-9, 取 8 個亂數"
   ]
  },
  {
   "cell_type": "markdown",
   "metadata": {},
   "source": [
    "#### 取 0 到 1 間的亂數\n",
    "\n",
    "例如取 20 個。"
   ]
  },
  {
   "cell_type": "code",
   "execution_count": null,
   "metadata": {},
   "outputs": [],
   "source": [
    "np.random.rand(20)"
   ]
  },
  {
   "cell_type": "markdown",
   "metadata": {},
   "source": [
    "#### 由平均 0, 標準差 1 的分布中取 20 個數"
   ]
  },
  {
   "cell_type": "code",
   "execution_count": null,
   "metadata": {},
   "outputs": [],
   "source": [
    "np.random.randn(20)"
   ]
  },
  {
   "cell_type": "markdown",
   "metadata": {},
   "source": [
    "#### 試取 100 個, 算平均、標準差"
   ]
  },
  {
   "cell_type": "code",
   "execution_count": 19,
   "metadata": {},
   "outputs": [],
   "source": [
    "a = np.random.randn(100)\n"
   ]
  },
  {
   "cell_type": "code",
   "execution_count": 20,
   "metadata": {
    "scrolled": true
   },
   "outputs": [
    {
     "data": {
      "text/plain": [
       "-0.05041997251195619"
      ]
     },
     "execution_count": 20,
     "metadata": {},
     "output_type": "execute_result"
    }
   ],
   "source": [
    "#請計算平均值\n",
    "np.mean(a)"
   ]
  },
  {
   "cell_type": "code",
   "execution_count": 21,
   "metadata": {},
   "outputs": [
    {
     "data": {
      "text/plain": [
       "1.0105151229422316"
      ]
     },
     "execution_count": 21,
     "metadata": {},
     "output_type": "execute_result"
    }
   ],
   "source": [
    "#請計算標準差\n",
    "np.std(a)"
   ]
  },
  {
   "cell_type": "code",
   "execution_count": 22,
   "metadata": {},
   "outputs": [
    {
     "data": {
      "text/plain": [
       "array([ 0.40097135,  1.98076132,  0.47414738, -1.32988541, -1.52862628,\n",
       "        0.08814056,  0.10488495,  0.66740605, -0.15970966, -0.40804217,\n",
       "       -1.39539271,  0.78495483, -0.82686256,  2.14984517, -1.67215714,\n",
       "        0.08979137, -1.36820515,  0.59402883, -0.0038297 , -0.111341  ,\n",
       "       -0.27006345,  1.1272228 ,  0.28731039,  0.5157655 ,  0.04192661,\n",
       "       -0.00818018, -0.08747807, -0.61744854, -0.07072067, -0.3386091 ,\n",
       "        0.26817362, -0.58881159, -0.61639654, -0.09910831,  0.66937303,\n",
       "       -2.72861475, -0.12600928, -0.11615768,  0.46064827,  0.74575501,\n",
       "       -1.08191325, -1.38705925,  2.12713703,  0.28976245, -0.32691154,\n",
       "        0.48968826, -1.78938837, -1.09936318, -0.35307189, -0.42780837,\n",
       "       -0.67844162, -0.96348613,  1.52840465,  0.51493421, -1.25605863,\n",
       "        0.52143094, -1.17415602, -0.32709678, -0.12290508,  0.92469952,\n",
       "        0.70084339, -0.19046912, -0.25558593,  1.00911909, -0.16387927,\n",
       "       -1.53039239,  1.0859775 , -0.95119932, -1.54166202, -0.14723802,\n",
       "        0.60156156, -1.01193051,  0.77027001, -2.63756407, -0.40619397,\n",
       "       -0.84194148,  0.40096658,  0.25206195,  0.34771934, -0.01787365,\n",
       "        1.34589241,  1.36523694,  1.25168961,  0.680192  , -0.89582774,\n",
       "       -0.09034283, -0.96456781,  0.55787605,  0.7196442 , -0.25578353,\n",
       "        2.13209415, -1.23786293,  0.69696786,  2.76505589, -1.46819454,\n",
       "       -1.19212814,  0.80380516,  0.65208049,  1.08535531, -0.85362351])"
      ]
     },
     "execution_count": 22,
     "metadata": {},
     "output_type": "execute_result"
    }
   ],
   "source": [
    "a"
   ]
  },
  {
   "cell_type": "markdown",
   "metadata": {},
   "source": [
    "#### 不同的平均值和標準差\n",
    "\n",
    "比如我們想要平均值變成 70, 標準差 10 怎麼做呢?"
   ]
  },
  {
   "cell_type": "code",
   "execution_count": 24,
   "metadata": {},
   "outputs": [
    {
     "data": {
      "text/plain": [
       "array([74.00971347, 89.80761325, 74.74147384, 56.70114593, 54.71373721,\n",
       "       70.88140559, 71.04884946, 76.67406046, 68.40290341, 65.91957834,\n",
       "       56.04607295, 77.84954829, 61.7313744 , 91.49845168, 53.27842864,\n",
       "       70.89791375, 56.31794848, 75.94028831, 69.96170297, 68.88659004,\n",
       "       67.29936546, 81.27222798, 72.87310386, 75.15765496, 70.41926606,\n",
       "       69.91819822, 69.12521927, 63.82551459, 69.29279328, 66.613909  ,\n",
       "       72.68173619, 64.11188413, 63.83603464, 69.00891685, 76.69373031,\n",
       "       42.71385252, 68.73990723, 68.83842318, 74.60648273, 77.45755013,\n",
       "       59.18086745, 56.1294075 , 91.27137028, 72.89762447, 66.73088462,\n",
       "       74.89688263, 52.10611628, 59.00636822, 66.46928112, 65.72191631,\n",
       "       63.21558383, 60.36513866, 85.28404652, 75.14934206, 57.43941368,\n",
       "       75.21430939, 58.25843975, 66.72903218, 68.77094916, 79.24699522,\n",
       "       77.00843392, 68.0953088 , 67.44414074, 80.09119092, 68.36120727,\n",
       "       54.69607612, 80.85977495, 60.48800678, 54.58337981, 68.52761976,\n",
       "       76.01561565, 59.8806949 , 77.70270013, 43.62435929, 65.93806027,\n",
       "       61.5805852 , 74.00966578, 72.52061954, 73.47719338, 69.82126349,\n",
       "       83.45892411, 83.65236941, 82.51689612, 76.80192004, 61.04172264,\n",
       "       69.09657169, 60.35432188, 75.57876048, 77.19644201, 67.44216473,\n",
       "       91.32094149, 57.62137073, 76.9696786 , 97.65055886, 55.31805459,\n",
       "       58.07871861, 78.0380516 , 76.52080487, 80.85355307, 61.46376492])"
      ]
     },
     "execution_count": 24,
     "metadata": {},
     "output_type": "execute_result"
    }
   ],
   "source": [
    "a*10+70"
   ]
  },
  {
   "cell_type": "code",
   "execution_count": null,
   "metadata": {},
   "outputs": [],
   "source": []
  },
  {
   "cell_type": "markdown",
   "metadata": {},
   "source": [
    "#### [練習] 將 Temperature_Taipei 中的所有溫度都轉成華氏\n",
    "Temperature_Taipei = [22, 24, 19, 19, 30, 21, 25]\n",
    "\n",
    "公式： Fahrenheit=Celsius×(9/5)+32"
   ]
  },
  {
   "cell_type": "code",
   "execution_count": null,
   "metadata": {},
   "outputs": [],
   "source": []
  },
  {
   "cell_type": "markdown",
   "metadata": {},
   "source": [
    "#### [練習] 利用array, 寫出一張九九乘法表"
   ]
  },
  {
   "cell_type": "code",
   "execution_count": 36,
   "metadata": {},
   "outputs": [
    {
     "ename": "SyntaxError",
     "evalue": "invalid syntax (<ipython-input-36-4e485f902b57>, line 3)",
     "output_type": "error",
     "traceback": [
      "\u001b[1;36m  File \u001b[1;32m\"<ipython-input-36-4e485f902b57>\"\u001b[1;36m, line \u001b[1;32m3\u001b[0m\n\u001b[1;33m    for i in range(1,10):\u001b[0m\n\u001b[1;37m                        ^\u001b[0m\n\u001b[1;31mSyntaxError\u001b[0m\u001b[1;31m:\u001b[0m invalid syntax\n"
     ]
    }
   ],
   "source": [
    "ar = np.empty((9,9)\n",
    " \n",
    "              \n",
    "for i in range(1,10):\n",
    "    for a in range(1,10):\n",
    "        ar[(i-1),(a-1)] = i*a\n"
   ]
  },
  {
   "cell_type": "code",
   "execution_count": null,
   "metadata": {},
   "outputs": [],
   "source": []
  }
 ],
 "metadata": {
  "kernelspec": {
   "display_name": "Python 3",
   "language": "python",
   "name": "python3"
  },
  "language_info": {
   "codemirror_mode": {
    "name": "ipython",
    "version": 3
   },
   "file_extension": ".py",
   "mimetype": "text/x-python",
   "name": "python",
   "nbconvert_exporter": "python",
   "pygments_lexer": "ipython3",
   "version": "3.6.7"
  }
 },
 "nbformat": 4,
 "nbformat_minor": 2
}
