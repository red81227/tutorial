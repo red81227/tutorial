{
 "cells": [
  {
   "cell_type": "code",
   "execution_count": null,
   "metadata": {},
   "outputs": [],
   "source": [
    "import numpy as np\n",
    "import pandas as pd\n",
    "import matplotlib.pyplot as plt\n",
    "import seaborn as sns"
   ]
  },
  {
   "cell_type": "markdown",
   "metadata": {},
   "source": [
    "## 請繪出𝑓(𝑥)=sin⁡(𝑥), −2≤𝑥≤2"
   ]
  },
  {
   "cell_type": "code",
   "execution_count": null,
   "metadata": {
    "scrolled": false
   },
   "outputs": [],
   "source": [
    "x = np.arange(-2.0,2.0,0.01) \n",
    "y_sin = np.sin(2 * np.pi * x)\n",
    "y_cos = np.cos(2 * np.pi * x)\n",
    "\n",
    "#定義一個圖像窗口\n",
    "fig = plt.figure()\n",
    "\n",
    "#定義x,y和圖的樣式\n",
    "plt.plot(x, y_sin, '.')"
   ]
  },
  {
   "cell_type": "markdown",
   "metadata": {},
   "source": [
    "## 請繪出𝑓(𝑥)=sin⁡(𝑥), −2≤𝑥≤2及𝑓(𝑥)=𝑐𝑜𝑠⁡(𝑥), −2≤𝑥≤2,\n",
    "## 在同一張圖紙上"
   ]
  },
  {
   "cell_type": "code",
   "execution_count": null,
   "metadata": {},
   "outputs": [],
   "source": [
    "#繪製sin與cos的圖\n",
    "fig = plt.figure() \n",
    "plt.plot(x, y_sin, '.', x, y_cos, '--')"
   ]
  },
  {
   "cell_type": "markdown",
   "metadata": {},
   "source": [
    "# [練習]請參照上面例子, 繪出𝑓(𝑥)= 𝑥^2, −2≤𝑥≤2"
   ]
  },
  {
   "cell_type": "code",
   "execution_count": null,
   "metadata": {},
   "outputs": [],
   "source": []
  },
  {
   "cell_type": "code",
   "execution_count": null,
   "metadata": {},
   "outputs": [],
   "source": []
  },
  {
   "cell_type": "markdown",
   "metadata": {},
   "source": [
    "## 直方圖(Histogram)\n",
    "－二維統計圖表，橫軸是類別或是數值間的範圍，縱軸是事件發生的頻率。"
   ]
  },
  {
   "cell_type": "code",
   "execution_count": null,
   "metadata": {},
   "outputs": [],
   "source": [
    "fig = plt.figure()\n",
    "x_hist = np.random.randn(1000)\n",
    "plt.hist(x_hist, bins=20, color='SteelBlue', edgecolor=\"LightSteelBlue\") "
   ]
  },
  {
   "cell_type": "markdown",
   "metadata": {},
   "source": [
    "## 圓餅圖(Pie Chart)\n",
    "－圓形統計圖表，每個扇區的弧長表示的數量的比例。"
   ]
  },
  {
   "cell_type": "code",
   "execution_count": null,
   "metadata": {},
   "outputs": [],
   "source": [
    "fig = plt.figure()\n",
    "labels = [\"day1\",\"day2\",\"day3\",\"day3\",\"day5\",\"day6\"]\n",
    "word_size = [2000, 3250, 4600 , 2300, 3600, 5600]\n",
    "explode = [0 , 0, 0.1, 0, 0, 0]  #0則不突凸出，值越大則凸出越大\n",
    "plt.pie(word_size, explode= explode, labels = labels, autopct= \"%3.1f%%\")\n"
   ]
  },
  {
   "cell_type": "markdown",
   "metadata": {},
   "source": [
    "## 直條圖(Bar Chart)"
   ]
  },
  {
   "cell_type": "code",
   "execution_count": null,
   "metadata": {},
   "outputs": [],
   "source": [
    "height = [3, 12, 5, 18, 45]\n",
    "bars = ('A', 'B', 'C', 'D', 'E')\n",
    "y_pos = np.arange(len(bars))\n",
    " \n",
    "# Create bars\n",
    "plt.bar(y_pos, height)\n",
    " \n",
    "# Create names on the x-axis\n",
    "plt.xticks(y_pos, bars)\n",
    "plt.show()"
   ]
  },
  {
   "cell_type": "markdown",
   "metadata": {},
   "source": [
    "## 箱型圖(Box Plot)"
   ]
  },
  {
   "cell_type": "code",
   "execution_count": null,
   "metadata": {
    "scrolled": true
   },
   "outputs": [],
   "source": [
    "np.random.seed(1234)\n",
    "\n",
    "# fake up some data\n",
    "spread = np.random.rand(50) * 100\n",
    "center = np.ones(25) * 50\n",
    "flier_high = np.random.rand(10) * 100 + 100\n",
    "flier_low = np.random.rand(10) * -100\n",
    "data = np.concatenate((spread, center, flier_high, flier_low))\n",
    "\n",
    "fig1, ax1 = plt.subplots()\n",
    "ax1.set_title('Basic Plot')\n",
    "ax1.boxplot(data)"
   ]
  },
  {
   "cell_type": "markdown",
   "metadata": {},
   "source": [
    "## 直條圖與密度圖(Histogram&KDE)\n",
    "－密度圖(KDE):樣本數據頻率分布規律的圖型。"
   ]
  },
  {
   "cell_type": "code",
   "execution_count": null,
   "metadata": {},
   "outputs": [],
   "source": [
    "ran_series = pd.Series(np.random.randn(1000))\n",
    "ran_series.plot(kind='hist')\n",
    "# 或者可以使用plot.hist(ran_series)"
   ]
  },
  {
   "cell_type": "code",
   "execution_count": null,
   "metadata": {},
   "outputs": [],
   "source": [
    "ran_series.plot(kind='kde')"
   ]
  },
  {
   "cell_type": "code",
   "execution_count": null,
   "metadata": {},
   "outputs": [],
   "source": [
    "sns.distplot(ran_series)"
   ]
  }
 ],
 "metadata": {
  "kernelspec": {
   "display_name": "Python 3",
   "language": "python",
   "name": "python3"
  },
  "language_info": {
   "codemirror_mode": {
    "name": "ipython",
    "version": 3
   },
   "file_extension": ".py",
   "mimetype": "text/x-python",
   "name": "python",
   "nbconvert_exporter": "python",
   "pygments_lexer": "ipython3",
   "version": "3.6.7"
  }
 },
 "nbformat": 4,
 "nbformat_minor": 2
}
