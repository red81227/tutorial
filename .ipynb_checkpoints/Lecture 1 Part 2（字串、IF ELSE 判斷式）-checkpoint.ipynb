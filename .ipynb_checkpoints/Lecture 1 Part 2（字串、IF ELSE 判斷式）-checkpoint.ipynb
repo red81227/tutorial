{
 "cells": [
  {
   "cell_type": "markdown",
   "metadata": {},
   "source": [
    "# Dunning-Kruger Effect（達克效應）\n",
    "\n",
    "\n",
    "![](https://www.dropbox.com/s/iqf0b0augy1bhov/0.jpg?dl=1)\n",
    "\n",
    "---\n",
    "# 不知道自己不知道，是一個很可怕的狀態\n",
    "\n",
    "---\n",
    "# 進步使人謙虛，落後使人驕傲\n",
    "\n",
    "---\n",
    "# 達克效應\n",
    "延申閲讀：[Wikipedia](https://zh.wikipedia.org/wiki/%E8%BE%BE%E5%85%8B%E6%95%88%E5%BA%94)\n",
    "\n",
    "---"
   ]
  },
  {
   "cell_type": "markdown",
   "metadata": {},
   "source": [
    "# 資料型別（Data Types）\n",
    "\n",
    "今天我們在寫程式，目的不外乎是爲了用電腦自動化現實生活中的人事物以及流程\n",
    "\n",
    "一個程式語言會有許多不同的資料型別（Data Types）\n",
    "\n",
    "---\n",
    "# 資料型別（Data Types）\n",
    "\n",
    "- 舉例來説，**一個人的歲數是用整數來表示**\n",
    "\n",
    "- 但是，一個人的體重則是用**帶有小數點的數字來表示**\n",
    "\n",
    "- 相對的，一個人的名字則是可以用**一連串的文字，也就是字串來表示**\n",
    "\n",
    "---\n",
    "# 資料型別（Data Types）\n",
    "\n",
    "一些我們之前見識過的資料型別：\n",
    "\n",
    "- 數值\n",
    "\t- int (整數)\n",
    "\t- float (浮點數)\n",
    "- 字串 (str)\n",
    "\n",
    "---\n",
    "# 若需要檢查變數的資料型別\n",
    "\n",
    "可以使用 `type()` 函數\n",
    "\n",
    "```python\n",
    "height = 180\n",
    "type(height)\n",
    "# int\n",
    "\n",
    "weight = 70.8\n",
    "type(weight)\n",
    "# float\n",
    "\n",
    "name = \"John\"\n",
    "type(name)\n",
    "# str\n",
    "```\n"
   ]
  },
  {
   "cell_type": "code",
   "execution_count": null,
   "metadata": {},
   "outputs": [],
   "source": []
  },
  {
   "cell_type": "markdown",
   "metadata": {},
   "source": [
    "# 我們來嘗試計算自己距離 200 公分的差距\n",
    "\n",
    "當我們嘗試把一個整數和字串用 `+` 串在一起時：\n",
    "\n",
    "```python\n",
    "my_height = input()\n",
    "print(\"你距離 200 公分有：\" + (200 - my_height) + \"公分！\")\n",
    "# TypeError: must be str, not int\n",
    "```\n",
    "\n",
    "因為**資料型別的不同**，無法把**字串與整數相減**\n",
    "\n",
    "```python\n",
    "# 一個整數不可能與一段文字相減\n",
    "200 - \"180\"\n",
    "```"
   ]
  },
  {
   "cell_type": "code",
   "execution_count": null,
   "metadata": {},
   "outputs": [],
   "source": []
  },
  {
   "cell_type": "markdown",
   "metadata": {},
   "source": [
    "# 型別轉換（Type Conversion）\n",
    "\n",
    "若是用 `int()` 函式先將 `my_height` 變數的資料型別從字串轉成整數，就可\n",
    "計算 `my_height` 與 `200` 的差距，但是接下來依然還是會出錯，原因在於被計算出來的差距為一個數字，無法與其他字串做相加：\n",
    "\n",
    "\n",
    "```python\n",
    "my_height = input()\n",
    "print(\"你距離 200 公分有：\" + (200 - int(my_height)) + \"公分！\")\n",
    "```\n",
    "\n",
    "---\n",
    "# 型別轉換（Type Conversion）\n",
    "\n",
    "因此，我們可以用 `str()` 函數將算出來的差距轉換成字串，才能將這三個字串串連起來並顯示：\n",
    "\n",
    "```python\n",
    "my_height = input()\n",
    "print(\"你距離 200 公分有：\" + str(200 - int(my_height)) + \"公分！\")\n",
    "```\n",
    "\n",
    "---"
   ]
  },
  {
   "cell_type": "code",
   "execution_count": null,
   "metadata": {},
   "outputs": [],
   "source": []
  },
  {
   "cell_type": "markdown",
   "metadata": {},
   "source": [
    "# 一些常見的型別轉換函數\n",
    "\n",
    "```python\n",
    "# 設定 num_str 變數為字串 \"123\"\n",
    "num_str = \"123\"\n",
    "# 印出來的結果看起來像 123\n",
    "print(num_str)\n",
    "# 但實際上資料型別是 str\n",
    "print(type(num_str))\n",
    "\n",
    "# 將字串 \"123\" 轉換型別，變成整數 123\n",
    "num = int(num_str)\n",
    "# 印出來的結果看起來也是 123\n",
    "print(num)\n",
    "# 但實際上資料型別是 int\n",
    "print(type(num))\n",
    "\n",
    "# 用 float() 函數將字串 \"123\" 轉成浮點數 123.0\n",
    "num_float = float(num_str)\n",
    "# 印出來的結果是 123.0\n",
    "print(num_float)\n",
    "# 資料型別是 float\n",
    "print(type(num_float))\n",
    "```\n"
   ]
  },
  {
   "cell_type": "code",
   "execution_count": null,
   "metadata": {},
   "outputs": [],
   "source": []
  },
  {
   "cell_type": "markdown",
   "metadata": {},
   "source": [
    "# 字串（String）\n",
    "\n",
    "來看另一種資料型別，字串：\n",
    "\n",
    "\n",
    "```python\n",
    "# 字串可用**單引號**或**雙引號**宣告，只要兩段一致即可\n",
    "str1 = \"Hello World!!!\"\n",
    "str2 = 'Hello World!!!'\n",
    "```"
   ]
  },
  {
   "cell_type": "code",
   "execution_count": null,
   "metadata": {},
   "outputs": [],
   "source": []
  },
  {
   "cell_type": "markdown",
   "metadata": {},
   "source": [
    "# 字串（String）\n",
    "\n",
    "當你需要在字串內使用單引號或雙引號時...\n",
    "```python\n",
    "str_error = 'It's a wonderful world!'\n",
    "```\n",
    "就會出現錯誤，為了避免該問題，可用 \\ 規避符號 (escape character)\n",
    "```python\n",
    "str_error = 'It\\'s a wonderful world!'\n",
    "```"
   ]
  },
  {
   "cell_type": "code",
   "execution_count": null,
   "metadata": {},
   "outputs": [],
   "source": []
  },
  {
   "cell_type": "markdown",
   "metadata": {},
   "source": [
    "# 字串（String）\n",
    "\n",
    "我們再來看另一個例子：\n",
    "```python\n",
    "str_error = \"The following is a quote: \"A quote inside string\"\"\n",
    "str_error = \"The following is a quote: \\\"A quote inside string\\\"\"\n",
    "```"
   ]
  },
  {
   "cell_type": "code",
   "execution_count": null,
   "metadata": {},
   "outputs": [],
   "source": []
  },
  {
   "cell_type": "markdown",
   "metadata": {},
   "source": [
    "# 提取子元\n",
    "今天如果我們想提取一個字串個別的字元\n",
    "\n",
    "# 提取子元\n",
    "\n",
    "在 Python，字串是一個序列，每一個子元都有編上一個代表順序的號碼（索引值）：\n",
    "\n",
    "| 字串   | P   | Y   | T   | H   | O   | N   |\n",
    "| ------ | --- | --- | --- | --- | --- | --- |\n",
    "| 索引值 | 0   | 1   | 2   | 3   | 4   | 5   |\n",
    "\n",
    "```python\n",
    "\"PYTHON\"[0]\n",
    "# 會回傳 \"P\"\n",
    "\"PYTHON\"[5]\n",
    "# 會回傳 \"N\"\n",
    "```"
   ]
  },
  {
   "cell_type": "code",
   "execution_count": null,
   "metadata": {},
   "outputs": [],
   "source": []
  },
  {
   "cell_type": "markdown",
   "metadata": {},
   "source": [
    "\n",
    "# 常用的字串方法\n",
    "\n",
    "# str.split()\n",
    "\n",
    "以空白符號，將字串分切成多個子字串\n",
    "\n",
    "```python\n",
    "split_result = \"My name is Eugene\".split()\n",
    "print(split_result)\n",
    "# ['My', 'name', 'is', 'Eugene']\n",
    "```\n"
   ]
  },
  {
   "cell_type": "code",
   "execution_count": null,
   "metadata": {},
   "outputs": [],
   "source": []
  },
  {
   "cell_type": "markdown",
   "metadata": {},
   "source": [
    "# str.replace()\n",
    "將字串内某一個字串改成另一個字串\n",
    "\n",
    "```python\n",
    "cipher = \"KELLR SYTHRN!\"\n",
    "cipher.replace(\"K\", \"H\")\n",
    "# HXYZllo thXYZrXYZ!\n",
    "```\n"
   ]
  },
  {
   "cell_type": "markdown",
   "metadata": {},
   "source": [
    "# 隨堂練習：凱撒密碼\n",
    "\n",
    "給予一個被凱撒密碼加密過的字串\n",
    "\n",
    "```python\n",
    "cipher = \"KELLR SYTHRN!\"\n",
    "```\n",
    "\n",
    "請將 K, S, R 三個字母替換成明文\n",
    "\n",
    "凱撒密碼 Wiki: [連結](https://zh.wikipedia.org/wiki/%E5%87%B1%E6%92%92%E5%AF%86%E7%A2%BC)\n"
   ]
  },
  {
   "cell_type": "code",
   "execution_count": null,
   "metadata": {},
   "outputs": [],
   "source": [
    "cipher = \"KELLR SYTHRN!\"\n",
    "str1 = cipher.replace(\"K\", \"H\")\n",
    "str2 = str1.replace(\"S\", \"P\")\n",
    "str3 = str2.replace(\"R\", \"O\")\n",
    "print(str3)"
   ]
  },
  {
   "cell_type": "code",
   "execution_count": null,
   "metadata": {},
   "outputs": [],
   "source": [
    "cipher = \"KELLR SYTHRN!\"\n",
    "cipher.replace(\"K\", \"H\").replace(\"S\", \"P\").replace(\"R\", \"O\")"
   ]
  },
  {
   "cell_type": "markdown",
   "metadata": {},
   "source": [
    "# str.isdecimal()\n",
    "檢查一個字串内的字符是否都是數字\n",
    "\n",
    "```python\n",
    "\"123\".isdecimal()\n",
    "# True\n",
    "```\n"
   ]
  },
  {
   "cell_type": "code",
   "execution_count": null,
   "metadata": {},
   "outputs": [],
   "source": []
  },
  {
   "cell_type": "markdown",
   "metadata": {},
   "source": [
    "# 字串格式化（String Formatting）\n",
    "\n",
    "在寫程式時爲了輸出字串而需要做大量的型別轉換很麻煩\n",
    "\n",
    "若今天一個字串有一部分是不確定的，但是其他部分都有固定的格式，我們可使用 `%` 符號將資料填入指定的字串位置：\n",
    "\n",
    "```python\n",
    "bmi = 22.724403484408533\n",
    "\n",
    "# 將 bmi 轉成浮點數（預設最多到小數點六位）\n",
    "print(\"我的BMI是：%f\" % bmi)\n",
    "# 我的BMI是：22.724403\n",
    "\n",
    "# .2f 指定到小數點第二位\n",
    "print(\"我的BMI是：%.2f\" % bmi)\n",
    "# 我的BMI是：22.72\n",
    "\n",
    "# 將 bmi 值轉成整數顯示\n",
    "print(\"我的BMI是：%i\" % bmi)\n",
    "# 我的BMI是：22\n",
    "\n",
    "# 將 bmi 值轉換成字串顯示\n",
    "print(\"我的BMI是：%s\" % bmi)\n",
    "# 我的BMI是：22.724403484408533，代表先將 bmi 轉成字串\n",
    "```\n"
   ]
  },
  {
   "cell_type": "code",
   "execution_count": null,
   "metadata": {},
   "outputs": [],
   "source": []
  },
  {
   "cell_type": "markdown",
   "metadata": {},
   "source": [
    "\n",
    "# 字串格式化（String Formatting）\n",
    "\n",
    "若覺得 `%` 不夠直覺，也可以使用 `.format()` 方法將字串格式化，將放入 `.format()`内的值插入字串内`{}`的地方：\n",
    "\n",
    "```python\n",
    "bmi = 22.724403484408533\n",
    "\n",
    "print(\"my bmi: {}\".format(bmi))\n",
    "# my bmi: 22.724403484408533\n",
    "print(\"my bmi: {:f}\".format(bmi))\n",
    "# my bmi: 22.724403\n",
    "print(\"my bmi: {:.2f}\".format(bmi))\n",
    "# my bmi: 22.72\n",
    "print(\"my bmi: {:.0f}\".format(bmi))\n",
    "# my bmi: 23\n",
    "```\n"
   ]
  },
  {
   "cell_type": "code",
   "execution_count": null,
   "metadata": {},
   "outputs": [],
   "source": []
  },
  {
   "cell_type": "markdown",
   "metadata": {},
   "source": [
    "# 字串格式化（String Formatting）\n",
    "\n",
    "若覺得 `%` 不夠直覺，也可以使用 `.format()` 方法將字串格式化：\n",
    "\n",
    "```python\n",
    "# 若是有多個值需要放入一個字串，可用 `{}` 表明被放入的地方\n",
    "# 再將值照順序放入 .format() \n",
    "'{} and {}'.format('spam', 'eggs')\n",
    "# spam and eggs\n",
    "'{0} and {1}'.format('spam', 'eggs')\n",
    "# spam and eggs\n",
    "'{1} and {0}'.format('spam', 'eggs')\n",
    "# eggs and spam\n",
    "'This {food} is {adj}'.format(adj=\"yummy\", food=\"pasta\")\n",
    "# 'This pasta is yummy'\n",
    "```"
   ]
  },
  {
   "cell_type": "code",
   "execution_count": null,
   "metadata": {},
   "outputs": [],
   "source": []
  },
  {
   "cell_type": "markdown",
   "metadata": {},
   "source": [
    "# fstring （限 Python 3.6+）\n",
    "\n",
    "比起 `%` 的不直覺，與 `.format()` 過度冗長，新版 Python 提供了 `fstring`，結合了上述兩種寫法的特性：\n",
    "\n",
    "```python\n",
    "print(f\"my bmi: {bmi}\")\n",
    "# my bmi: 22.724403484408533\n",
    "print(f\"my bmi: {bmi:f}\")\n",
    "# my bmi: 22.724403\n",
    "print(f\"my bmi: {bmi:.2f}\")\n",
    "# my bmi: 22.72\n",
    "print(f\"my bmi: {bmi:.0f}\")\n",
    "# my bmi: 23\n",
    "```"
   ]
  },
  {
   "cell_type": "code",
   "execution_count": null,
   "metadata": {},
   "outputs": [],
   "source": []
  },
  {
   "cell_type": "markdown",
   "metadata": {},
   "source": [
    "# 流程控制與邏輯運算\n",
    "\n",
    "電腦除了可以做數字的運算，也可以做**比較**\n",
    "\n",
    "---\n",
    "# 比較運算子\n",
    "\n",
    "| 運算子 | 功能          | 實例    | 結果  |\n",
    "| :----: | :-----------: | :-----: | :---: |\n",
    "| ==    | 是否等於          | 3 == 3  | True |\n",
    "| !=      | 不等於     | 2 != 3 | True     |\n",
    "| >    |  是否大於 | 2 > 3 | False     |\n",
    "| <      | 是否小於   | 2 < 3  | True |\n",
    "| <=     | 小於等於 | 3 <= 3| True |\n",
    "| >=     | 大於等於 | 5 >=5 | True |\n",
    "\n",
    "---\n",
    "# 比較運算子\n",
    "\n",
    "這個結果的 **True** 和 **False** 代表什麼？\n",
    "\n",
    "---\n",
    "# Boolean 布林值\n",
    "\n",
    "另一種資料型別，電腦用來表示**成立**或**不成立**\n",
    "\n",
    "布林值只有兩個值:\n",
    "```python\n",
    "\tTrue #成立\n",
    "\tFalse #不成立\n",
    "```\n"
   ]
  },
  {
   "cell_type": "code",
   "execution_count": null,
   "metadata": {},
   "outputs": [],
   "source": []
  },
  {
   "cell_type": "markdown",
   "metadata": {},
   "source": [
    "\n",
    "# 範例\n",
    "\n",
    "```python\n",
    "'hello' == 'hello'\n",
    "# True\n",
    "47 > 47\n",
    "# False\n",
    "47 >= 47\n",
    "# True\n",
    "```\n"
   ]
  },
  {
   "cell_type": "code",
   "execution_count": null,
   "metadata": {},
   "outputs": [],
   "source": []
  },
  {
   "cell_type": "markdown",
   "metadata": {},
   "source": [
    "\n",
    "# 流程控制\n",
    "\n",
    "![flow control](https://www.dropbox.com/s/01oyzdlgiyafmzo/flow_control.jpg?raw=1)\n",
    "\n",
    "當我們遇上程式需要針對不同選項執行不同結果時，我們需要學會用程式語言表達 Yes 和 No，以及邏輯上的分支點\n",
    "\n",
    "---\n",
    "# if 陳述句\n",
    "\n",
    "若 `if` 後面的比較式條件成立，也就是結果為 `True`，則執行子句中的程式碼：\n",
    "\n",
    "```python\n",
    "num = 5\n",
    "\n",
    "if num > 5:\n",
    "    print(\"num is bigger than 5\")\n",
    "```\n"
   ]
  },
  {
   "cell_type": "code",
   "execution_count": null,
   "metadata": {},
   "outputs": [],
   "source": []
  },
  {
   "cell_type": "markdown",
   "metadata": {},
   "source": [
    "\n",
    "# if...else 陳述句\n",
    "\n",
    "若 `if` 關鍵字後面的比較式結果為 `False`，則忽略 `if` 子句，執行 `else` 的子句：\n",
    "\n",
    "```python\n",
    "num = 5\n",
    "\n",
    "if num > 5:\n",
    "    print(\"num is bigger than 5\")\n",
    "else:\n",
    "    print(\"num is smaller than or equal to 5\")\n",
    "```"
   ]
  },
  {
   "cell_type": "code",
   "execution_count": null,
   "metadata": {},
   "outputs": [],
   "source": []
  },
  {
   "cell_type": "markdown",
   "metadata": {},
   "source": [
    "# elif 陳述句\n",
    "白話文就是指 \"否則如果\"\n",
    "\n",
    "當可能性/選項超出兩種時，可用 `elif`：\n",
    "\n",
    "```python\n",
    "num = 5\n",
    "\n",
    "if num > 5:\n",
    "    print(\"num is greater than 5\")\n",
    "elif num < 5:\n",
    "    print(\"num is less than 5\")\n",
    "else:\n",
    "    print(\"num is equal to 5\")\n",
    "```\n"
   ]
  },
  {
   "cell_type": "code",
   "execution_count": null,
   "metadata": {},
   "outputs": [],
   "source": []
  },
  {
   "cell_type": "markdown",
   "metadata": {},
   "source": [
    "# if...elif...else 陳述句\n",
    "- 只要 `if` 後面的條件結果是 `False`，便會看 `elif` 後面的條件\n",
    "- 若比較式結果為 `True`，便會執行 `elif` 的子句，不然便會繼續檢查下一個 `elif`\n",
    "- 若全部的比較式結果都是 `False`，則執行 `else` 底下的程式碼"
   ]
  },
  {
   "cell_type": "code",
   "execution_count": null,
   "metadata": {},
   "outputs": [],
   "source": []
  },
  {
   "cell_type": "markdown",
   "metadata": {},
   "source": [
    "# 小考 (Pop Quiz)\n",
    "\n",
    "請使用選擇敘述撰寫一程式，讓使用者輸入一個正整數，然後判斷它是否為偶數（even）\n",
    "\n",
    "範例輸入:\n",
    "```\n",
    "56\n",
    "```\n",
    "範例輸出:\n",
    "```\n",
    "56 is an even number.\n",
    "```\n",
    "範例輸入:\n",
    "```\n",
    "21\n",
    "```\n",
    "範例輸出:\n",
    "```\n",
    "21 is not an even number.\n",
    "```"
   ]
  },
  {
   "cell_type": "code",
   "execution_count": null,
   "metadata": {},
   "outputs": [],
   "source": []
  },
  {
   "cell_type": "markdown",
   "metadata": {},
   "source": [
    "# 再次提醒\n",
    "\n",
    "- **若 `if` 後面的條件結果為 `True`, 便不會執行任何 `elif` 的後面的比較式**\n",
    "\n",
    "- **python 對縮排很敏感，任何 if, elif, 或 else 要執行的程式碼請記得要縮排**\n",
    "\n",
    "- **python 的縮排是四個空白符號(或是一個tab)**\n",
    "\n",
    "\n",
    "# 邏輯運算子\n",
    "當你需要把多個比較式的結果串連起來時\n",
    "\n",
    "像是條件一與條件二都必須成立:\n",
    "```python\n",
    "if 條件一 == True 與 條件二 == True:\n",
    "    print(\"條件一與條件二都成立！\")\n",
    "```\n",
    "\n",
    "要如何用 Python 程式碼表達這件事？\n",
    "\n",
    "\n",
    "# 邏輯運算子\n",
    "當你需要把多個比較式連接起來時\n",
    "\n",
    "| 運算子 | 功能          | 實例    | 結果  |\n",
    "| :----: | :-----------: | :-----: | :---: |\n",
    "| and      | 而且        | True and True | True |\n",
    "| or       | 或許        | True or False | True |\n",
    "| not      | 反值        | not True | False |"
   ]
  },
  {
   "cell_type": "code",
   "execution_count": null,
   "metadata": {},
   "outputs": [],
   "source": []
  },
  {
   "cell_type": "markdown",
   "metadata": {},
   "source": [
    "# and truth table(真值表)\n",
    "\n",
    "| A | B | A and B |\n",
    "| :----: | :-----------: | :---: |\n",
    "| True      | True    |  True     |\n",
    "| True      | False   | False     |\n",
    "| False     | True    | False     |\n",
    "| False     | False   | False     |"
   ]
  },
  {
   "cell_type": "code",
   "execution_count": null,
   "metadata": {},
   "outputs": [],
   "source": []
  },
  {
   "cell_type": "markdown",
   "metadata": {},
   "source": [
    "# or truth table(真值表)\n",
    "\n",
    "| A | B | A or B |\n",
    "| :----: | :-----------: | :---: |\n",
    "| True      | True    |  True     |\n",
    "| True      | False   | True     |\n",
    "| False     | True    | True    |\n",
    "| False     | False   | False     |"
   ]
  },
  {
   "cell_type": "code",
   "execution_count": null,
   "metadata": {},
   "outputs": [],
   "source": []
  },
  {
   "cell_type": "markdown",
   "metadata": {},
   "source": [
    "# 隨堂練習\n",
    "\n",
    "請使用者輸入一種天氣，假如是晴天或多雲印\"去戶外跑步\"\n",
    "\n",
    "小雨印\"去健身房\"\n",
    "\n",
    "否則印\"天氣未知，待在家裡當沙發馬鈴薯\"\n",
    "\n",
    "```python\n",
    "weathers = input(\"請輸入一種天氣：\")\n",
    "if ___ and ___:\n",
    "    print(___)\n",
    "elif ___:\n",
    "    print(___)\n",
    "else:\n",
    "    print(___)\n",
    "```"
   ]
  },
  {
   "cell_type": "markdown",
   "metadata": {},
   "source": [
    "# 練習\n",
    "\n",
    "寫出一個判斷式，從報酬率判斷兩隻股票的走勢是否相同：\n",
    "\n",
    "```python\n",
    "# 股票一報酬率\n",
    "stock_one_return = 0.1234\n",
    "# 股票二報酬率\n",
    "stock_two_return = -0.3456\n",
    "\n",
    "if _______:\n",
    "    print(\"兩者走勢相同\")\n",
    "else:\n",
    "    print(\"兩者走勢不同\")\n",
    "```\n"
   ]
  },
  {
   "cell_type": "code",
   "execution_count": null,
   "metadata": {},
   "outputs": [],
   "source": []
  },
  {
   "cell_type": "markdown",
   "metadata": {},
   "source": [
    "# 解答\n",
    "\n",
    "```python\n",
    "# 股票一報酬率\n",
    "stock_one_return = 0.123\n",
    "# 股票二報酬率\n",
    "stock_two_return = -0.345\n",
    "\n",
    "if stock_one_return < 0 and stock_two_return < 0:\n",
    "    print(\"兩者走勢相同\")\n",
    "elif stock_one_return > 0 and stock_two_return > 0:\n",
    "    print(\"兩者走勢相同\")\n",
    "elif stock_one_return == 0 and stock_two_return == 0:\n",
    "    print(\"兩者走勢相同\")\n",
    "else:\n",
    "    print(\"兩者走勢不同\")\n",
    "```\n"
   ]
  },
  {
   "cell_type": "markdown",
   "metadata": {},
   "source": [
    "# 練習\n",
    "\n",
    "用 Python 寫出一個支援四則運算的計算機\n",
    "\n",
    "```python\n",
    "print(\"請輸入第一個數字：\")\n",
    "first_num = input()\n",
    "print(\"請輸入第二個數字：\")\n",
    "second_num = input()\n",
    "print(\"請輸入運算方式：\")\n",
    "print(\"1)+ 2)- 3)* 4)/：\")\n",
    "operation = input()\n",
    "\n",
    "if operation == ____:\n",
    "    print(_______________)\n",
    "```\n"
   ]
  },
  {
   "cell_type": "code",
   "execution_count": null,
   "metadata": {},
   "outputs": [],
   "source": []
  },
  {
   "cell_type": "markdown",
   "metadata": {},
   "source": [
    "# 額外練習\n",
    "寫出一個剪刀、石頭、布的遊戲\n",
    "\n",
    "![](https://www.dropbox.com/s/9wjiyp995drathe/rps.png?dl=1)\n",
    "\n",
    "---\n",
    "# 剪刀、石頭、布的遊戲\n",
    "範例程式碼：\n",
    "\n",
    "```python\n",
    "print(\"歡迎來到剪刀石頭布！ \")\n",
    "name = input(\"請輸入您的名稱：\")\n",
    "\n",
    "player_hand = int(input((\"請出拳： (1) 剪刀 (2) 石頭 (3) 布：\"))\n",
    "computer_hand = random.randint(1,3)\n",
    "# 把剩下的判斷輸贏寫完...\n",
    "```\n",
    "\n",
    "---\n",
    "# 亂數 (Random)\n",
    "```python\n",
    "# 匯入 random 模組的功能\n",
    "import random\n",
    "# 隨機回傳 1 到 3 之間的某個整數\n",
    "print(random.randint(1,3))\n",
    "```\n"
   ]
  },
  {
   "cell_type": "code",
   "execution_count": null,
   "metadata": {},
   "outputs": [],
   "source": []
  },
  {
   "cell_type": "markdown",
   "metadata": {},
   "source": [
    "## Code Judger 程式練習平台\n",
    "![](https://www.dropbox.com/s/rufvjbms7apq3vt/codejudger.PNG?dl=1)\n",
    "\n",
    "Code Judger [連結](https://pyradise.codejudger.com/)\n",
    "\n",
    "---\n",
    "## Code Judger 程式練習平台\n",
    "![](https://www.dropbox.com/s/3dq1izcx69ls1xs/codejudger2.PNG?dl=1)\n",
    "\n",
    "賬號會在第一節課後陸續發給各位，請關注 Email\n",
    "\n",
    "---"
   ]
  }
 ],
 "metadata": {
  "kernelspec": {
   "display_name": "Python 3",
   "language": "python",
   "name": "python3"
  },
  "language_info": {
   "codemirror_mode": {
    "name": "ipython",
    "version": 3
   },
   "file_extension": ".py",
   "mimetype": "text/x-python",
   "name": "python",
   "nbconvert_exporter": "python",
   "pygments_lexer": "ipython3",
   "version": "3.6.7"
  }
 },
 "nbformat": 4,
 "nbformat_minor": 2
}
