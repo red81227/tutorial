{
 "cells": [
  {
   "cell_type": "code",
   "execution_count": 2,
   "metadata": {},
   "outputs": [],
   "source": [
    "import pandas as pd\n",
    "import numpy as np"
   ]
  },
  {
   "cell_type": "code",
   "execution_count": 20,
   "metadata": {
    "scrolled": true
   },
   "outputs": [
    {
     "data": {
      "text/plain": [
       "0    A\n",
       "1    B\n",
       "2    C\n",
       "3    D\n",
       "4    E\n",
       "5    F\n",
       "dtype: object"
      ]
     },
     "execution_count": 20,
     "metadata": {},
     "output_type": "execute_result"
    }
   ],
   "source": [
    "#axis = 0 行合併, =1 列合併\n",
    "ironman1 = pd.Series(['A','B','C'], index=[0,1,2])\n",
    "ironman2 = pd.Series(['D','E','F'], index=[2,3,4])\n",
    "\n",
    "pd.concat([ironman1,ironman2], axis=0)\n",
    "pd.concat([ironman1,ironman2], axis=0, ignore_index=True)"
   ]
  },
  {
   "cell_type": "code",
   "execution_count": 16,
   "metadata": {},
   "outputs": [
    {
     "data": {
      "text/plain": [
       "0    A\n",
       "1    B\n",
       "2    C\n",
       "2    D\n",
       "3    E\n",
       "4    F\n",
       "dtype: object"
      ]
     },
     "execution_count": 16,
     "metadata": {},
     "output_type": "execute_result"
    }
   ],
   "source": [
    "ironman1.append(ironman2)"
   ]
  },
  {
   "cell_type": "code",
   "execution_count": 31,
   "metadata": {},
   "outputs": [
    {
     "name": "stdout",
     "output_type": "stream",
     "text": [
      "     a    b    c    d\n",
      "1  0.0  0.0  0.0  0.0\n",
      "2  0.0  0.0  0.0  0.0\n",
      "3  0.0  0.0  0.0  0.0\n",
      "------------------------\n",
      "     b    c    d    e\n",
      "2  0.0  0.0  0.0  0.0\n",
      "3  0.0  0.0  0.0  0.0\n",
      "4  0.0  0.0  0.0  0.0\n",
      "------------------------\n",
      "     a    b    c    d    e\n",
      "1  0.0  0.0  0.0  0.0  NaN\n",
      "2  0.0  0.0  0.0  0.0  NaN\n",
      "3  0.0  0.0  0.0  0.0  NaN\n",
      "2  NaN  0.0  0.0  0.0  0.0\n",
      "3  NaN  0.0  0.0  0.0  0.0\n",
      "4  NaN  0.0  0.0  0.0  0.0\n",
      "------------------------\n",
      "     b    c    d\n",
      "0  0.0  0.0  0.0\n",
      "1  0.0  0.0  0.0\n",
      "2  0.0  0.0  0.0\n",
      "3  0.0  0.0  0.0\n",
      "4  0.0  0.0  0.0\n",
      "5  0.0  0.0  0.0\n"
     ]
    }
   ],
   "source": [
    "# concat 使用 join 設定\n",
    "# join 有兩種模式，分別為 inner, outer\n",
    "df1 = pd.DataFrame(np.ones((3,4))*0, columns=['a','b','c','d'],index=[1,2,3])\n",
    "df2 = pd.DataFrame(np.ones((3,4))*0, columns=['b','c','d','e'],index=[2,3,4])\n",
    "\n",
    "print(df1)\n",
    "print('------------------------')\n",
    "print(df2)\n",
    "print('------------------------')\n",
    "\n",
    "res = pd.concat([df1,df2], sort=True)  # 這兩行程式是全等的,預設值為outer join\n",
    "res1 = pd.concat([df1,df2], join='inner', ignore_index=True) # 這兩行程式是全等的\n",
    "\n",
    "print(res)\n",
    "print('------------------------')\n",
    "print(res1)"
   ]
  },
  {
   "cell_type": "code",
   "execution_count": 5,
   "metadata": {
    "scrolled": true
   },
   "outputs": [
    {
     "name": "stdout",
     "output_type": "stream",
     "text": [
      "  player  number\n",
      "0    彭政閔      23\n",
      "1    林智勝      32\n",
      "2    郭阜林       5\n",
      "3    詹子賢      39\n",
      "------------------------\n",
      "  player team\n",
      "0    彭政閔  兄弟象\n",
      "1    郭阜林  統一獅\n",
      "2    林智勝  兄弟象\n",
      "3    詹子賢  兄弟象\n"
     ]
    }
   ],
   "source": [
    "g_num = pd.DataFrame({'player':['彭政閔','林智勝','郭阜林','詹子賢'],\n",
    "                        'number':[23,32,5,39]})\n",
    "g_team = pd.DataFrame({'player':['彭政閔','郭阜林','林智勝','詹子賢'],\n",
    "                        'team':['兄弟象','統一獅','兄弟象','兄弟象']})\n",
    "g_player = pd.merge(g_num, g_team)\n",
    "\n",
    "print(g_num)\n",
    "print('------------------------')\n",
    "print(g_team)"
   ]
  },
  {
   "cell_type": "code",
   "execution_count": 4,
   "metadata": {
    "scrolled": true
   },
   "outputs": [
    {
     "data": {
      "text/html": [
       "<div>\n",
       "<style scoped>\n",
       "    .dataframe tbody tr th:only-of-type {\n",
       "        vertical-align: middle;\n",
       "    }\n",
       "\n",
       "    .dataframe tbody tr th {\n",
       "        vertical-align: top;\n",
       "    }\n",
       "\n",
       "    .dataframe thead th {\n",
       "        text-align: right;\n",
       "    }\n",
       "</style>\n",
       "<table border=\"1\" class=\"dataframe\">\n",
       "  <thead>\n",
       "    <tr style=\"text-align: right;\">\n",
       "      <th></th>\n",
       "      <th>player</th>\n",
       "      <th>number</th>\n",
       "      <th>team</th>\n",
       "    </tr>\n",
       "  </thead>\n",
       "  <tbody>\n",
       "    <tr>\n",
       "      <th>0</th>\n",
       "      <td>彭政閔</td>\n",
       "      <td>23</td>\n",
       "      <td>兄弟象</td>\n",
       "    </tr>\n",
       "    <tr>\n",
       "      <th>1</th>\n",
       "      <td>林智勝</td>\n",
       "      <td>32</td>\n",
       "      <td>兄弟象</td>\n",
       "    </tr>\n",
       "    <tr>\n",
       "      <th>2</th>\n",
       "      <td>郭阜林</td>\n",
       "      <td>5</td>\n",
       "      <td>統一獅</td>\n",
       "    </tr>\n",
       "    <tr>\n",
       "      <th>3</th>\n",
       "      <td>詹子賢</td>\n",
       "      <td>39</td>\n",
       "      <td>兄弟象</td>\n",
       "    </tr>\n",
       "  </tbody>\n",
       "</table>\n",
       "</div>"
      ],
      "text/plain": [
       "  player  number team\n",
       "0    彭政閔      23  兄弟象\n",
       "1    林智勝      32  兄弟象\n",
       "2    郭阜林       5  統一獅\n",
       "3    詹子賢      39  兄弟象"
      ]
     },
     "execution_count": 4,
     "metadata": {},
     "output_type": "execute_result"
    }
   ],
   "source": [
    "g_player"
   ]
  },
  {
   "cell_type": "code",
   "execution_count": 16,
   "metadata": {},
   "outputs": [
    {
     "data": {
      "text/html": [
       "<div>\n",
       "<style scoped>\n",
       "    .dataframe tbody tr th:only-of-type {\n",
       "        vertical-align: middle;\n",
       "    }\n",
       "\n",
       "    .dataframe tbody tr th {\n",
       "        vertical-align: top;\n",
       "    }\n",
       "\n",
       "    .dataframe thead th {\n",
       "        text-align: right;\n",
       "    }\n",
       "</style>\n",
       "<table border=\"1\" class=\"dataframe\">\n",
       "  <thead>\n",
       "    <tr style=\"text-align: right;\">\n",
       "      <th></th>\n",
       "      <th>player</th>\n",
       "      <th>number</th>\n",
       "      <th>team</th>\n",
       "    </tr>\n",
       "  </thead>\n",
       "  <tbody>\n",
       "    <tr>\n",
       "      <th>0</th>\n",
       "      <td>彭政閔</td>\n",
       "      <td>23.0</td>\n",
       "      <td>兄弟象</td>\n",
       "    </tr>\n",
       "    <tr>\n",
       "      <th>1</th>\n",
       "      <td>林智勝</td>\n",
       "      <td>32.0</td>\n",
       "      <td>兄弟象</td>\n",
       "    </tr>\n",
       "    <tr>\n",
       "      <th>2</th>\n",
       "      <td>郭阜林</td>\n",
       "      <td>5.0</td>\n",
       "      <td>NaN</td>\n",
       "    </tr>\n",
       "    <tr>\n",
       "      <th>3</th>\n",
       "      <td>詹子賢</td>\n",
       "      <td>39.0</td>\n",
       "      <td>NaN</td>\n",
       "    </tr>\n",
       "    <tr>\n",
       "      <th>4</th>\n",
       "      <td>張志豪</td>\n",
       "      <td>NaN</td>\n",
       "      <td>兄弟象</td>\n",
       "    </tr>\n",
       "    <tr>\n",
       "      <th>5</th>\n",
       "      <td>藍寅倫</td>\n",
       "      <td>NaN</td>\n",
       "      <td>lamigo</td>\n",
       "    </tr>\n",
       "  </tbody>\n",
       "</table>\n",
       "</div>"
      ],
      "text/plain": [
       "  player  number    team\n",
       "0    彭政閔    23.0     兄弟象\n",
       "1    林智勝    32.0     兄弟象\n",
       "2    郭阜林     5.0     NaN\n",
       "3    詹子賢    39.0     NaN\n",
       "4    張志豪     NaN     兄弟象\n",
       "5    藍寅倫     NaN  lamigo"
      ]
     },
     "execution_count": 16,
     "metadata": {},
     "output_type": "execute_result"
    }
   ],
   "source": [
    "g_team1 = pd.DataFrame({'player':['彭政閔','林智勝','張志豪',\"藍寅倫\"],\n",
    "                        'team':['兄弟象','兄弟象','兄弟象','lamigo']})\n",
    "pd.merge(g_num, g_team1, how=\"outer\")"
   ]
  },
  {
   "cell_type": "code",
   "execution_count": 13,
   "metadata": {
    "scrolled": true
   },
   "outputs": [
    {
     "data": {
      "text/html": [
       "<div>\n",
       "<style scoped>\n",
       "    .dataframe tbody tr th:only-of-type {\n",
       "        vertical-align: middle;\n",
       "    }\n",
       "\n",
       "    .dataframe tbody tr th {\n",
       "        vertical-align: top;\n",
       "    }\n",
       "\n",
       "    .dataframe thead th {\n",
       "        text-align: right;\n",
       "    }\n",
       "</style>\n",
       "<table border=\"1\" class=\"dataframe\">\n",
       "  <thead>\n",
       "    <tr style=\"text-align: right;\">\n",
       "      <th></th>\n",
       "      <th>team</th>\n",
       "      <th>manager</th>\n",
       "    </tr>\n",
       "  </thead>\n",
       "  <tbody>\n",
       "    <tr>\n",
       "      <th>0</th>\n",
       "      <td>兄弟象</td>\n",
       "      <td>伯　納</td>\n",
       "    </tr>\n",
       "    <tr>\n",
       "      <th>1</th>\n",
       "      <td>統一獅</td>\n",
       "      <td>劉育辰</td>\n",
       "    </tr>\n",
       "    <tr>\n",
       "      <th>2</th>\n",
       "      <td>lamigo</td>\n",
       "      <td>洪一中</td>\n",
       "    </tr>\n",
       "    <tr>\n",
       "      <th>3</th>\n",
       "      <td>富邦悍將</td>\n",
       "      <td>陳連宏</td>\n",
       "    </tr>\n",
       "    <tr>\n",
       "      <th>4</th>\n",
       "      <td>味全龍</td>\n",
       "      <td>葉君璋</td>\n",
       "    </tr>\n",
       "  </tbody>\n",
       "</table>\n",
       "</div>"
      ],
      "text/plain": [
       "     team manager\n",
       "0     兄弟象     伯　納\n",
       "1     統一獅     劉育辰\n",
       "2  lamigo     洪一中\n",
       "3    富邦悍將     陳連宏\n",
       "4     味全龍     葉君璋"
      ]
     },
     "execution_count": 13,
     "metadata": {},
     "output_type": "execute_result"
    }
   ],
   "source": [
    "g_manger = pd.DataFrame({'team':['兄弟象','統一獅','lamigo','富邦悍將','味全龍'],\n",
    "                        'manager':['伯　納','劉育辰','洪一中','陳連宏','葉君璋']})\n",
    "g_mp = pd.merge(g_player, g_manger)\n",
    "\n",
    "g_manger"
   ]
  },
  {
   "cell_type": "code",
   "execution_count": 14,
   "metadata": {},
   "outputs": [
    {
     "data": {
      "text/html": [
       "<div>\n",
       "<style scoped>\n",
       "    .dataframe tbody tr th:only-of-type {\n",
       "        vertical-align: middle;\n",
       "    }\n",
       "\n",
       "    .dataframe tbody tr th {\n",
       "        vertical-align: top;\n",
       "    }\n",
       "\n",
       "    .dataframe thead th {\n",
       "        text-align: right;\n",
       "    }\n",
       "</style>\n",
       "<table border=\"1\" class=\"dataframe\">\n",
       "  <thead>\n",
       "    <tr style=\"text-align: right;\">\n",
       "      <th></th>\n",
       "      <th>player</th>\n",
       "      <th>number</th>\n",
       "      <th>team</th>\n",
       "      <th>manager</th>\n",
       "    </tr>\n",
       "  </thead>\n",
       "  <tbody>\n",
       "    <tr>\n",
       "      <th>0</th>\n",
       "      <td>彭政閔</td>\n",
       "      <td>23</td>\n",
       "      <td>兄弟象</td>\n",
       "      <td>伯　納</td>\n",
       "    </tr>\n",
       "    <tr>\n",
       "      <th>1</th>\n",
       "      <td>林智勝</td>\n",
       "      <td>32</td>\n",
       "      <td>兄弟象</td>\n",
       "      <td>伯　納</td>\n",
       "    </tr>\n",
       "    <tr>\n",
       "      <th>2</th>\n",
       "      <td>詹子賢</td>\n",
       "      <td>39</td>\n",
       "      <td>兄弟象</td>\n",
       "      <td>伯　納</td>\n",
       "    </tr>\n",
       "    <tr>\n",
       "      <th>3</th>\n",
       "      <td>郭阜林</td>\n",
       "      <td>5</td>\n",
       "      <td>統一獅</td>\n",
       "      <td>劉育辰</td>\n",
       "    </tr>\n",
       "  </tbody>\n",
       "</table>\n",
       "</div>"
      ],
      "text/plain": [
       "  player  number team manager\n",
       "0    彭政閔      23  兄弟象     伯　納\n",
       "1    林智勝      32  兄弟象     伯　納\n",
       "2    詹子賢      39  兄弟象     伯　納\n",
       "3    郭阜林       5  統一獅     劉育辰"
      ]
     },
     "execution_count": 14,
     "metadata": {},
     "output_type": "execute_result"
    }
   ],
   "source": [
    "g_mp"
   ]
  },
  {
   "cell_type": "code",
   "execution_count": 15,
   "metadata": {},
   "outputs": [
    {
     "data": {
      "text/html": [
       "<div>\n",
       "<style scoped>\n",
       "    .dataframe tbody tr th:only-of-type {\n",
       "        vertical-align: middle;\n",
       "    }\n",
       "\n",
       "    .dataframe tbody tr th {\n",
       "        vertical-align: top;\n",
       "    }\n",
       "\n",
       "    .dataframe thead th {\n",
       "        text-align: right;\n",
       "    }\n",
       "</style>\n",
       "<table border=\"1\" class=\"dataframe\">\n",
       "  <thead>\n",
       "    <tr style=\"text-align: right;\">\n",
       "      <th></th>\n",
       "      <th>player</th>\n",
       "      <th>number</th>\n",
       "      <th>team</th>\n",
       "      <th>manager</th>\n",
       "      <th>coach</th>\n",
       "    </tr>\n",
       "  </thead>\n",
       "  <tbody>\n",
       "    <tr>\n",
       "      <th>0</th>\n",
       "      <td>彭政閔</td>\n",
       "      <td>23</td>\n",
       "      <td>兄弟象</td>\n",
       "      <td>伯　納</td>\n",
       "      <td>丘昌榮</td>\n",
       "    </tr>\n",
       "    <tr>\n",
       "      <th>1</th>\n",
       "      <td>林智勝</td>\n",
       "      <td>32</td>\n",
       "      <td>兄弟象</td>\n",
       "      <td>伯　納</td>\n",
       "      <td>丘昌榮</td>\n",
       "    </tr>\n",
       "    <tr>\n",
       "      <th>2</th>\n",
       "      <td>詹子賢</td>\n",
       "      <td>39</td>\n",
       "      <td>兄弟象</td>\n",
       "      <td>伯　納</td>\n",
       "      <td>丘昌榮</td>\n",
       "    </tr>\n",
       "    <tr>\n",
       "      <th>3</th>\n",
       "      <td>郭阜林</td>\n",
       "      <td>5</td>\n",
       "      <td>統一獅</td>\n",
       "      <td>劉育辰</td>\n",
       "      <td>高政華</td>\n",
       "    </tr>\n",
       "  </tbody>\n",
       "</table>\n",
       "</div>"
      ],
      "text/plain": [
       "  player  number team manager coach\n",
       "0    彭政閔      23  兄弟象     伯　納   丘昌榮\n",
       "1    林智勝      32  兄弟象     伯　納   丘昌榮\n",
       "2    詹子賢      39  兄弟象     伯　納   丘昌榮\n",
       "3    郭阜林       5  統一獅     劉育辰   高政華"
      ]
     },
     "execution_count": 15,
     "metadata": {},
     "output_type": "execute_result"
    }
   ],
   "source": [
    "g_coach = pd.DataFrame({'team':['兄弟象','統一獅','lamigo','富邦悍將'],\n",
    "                        'coach':['丘昌榮','高政華','吳俊良','林宗男']})\n",
    "g_all = pd.merge(g_mp, g_coach)\n",
    "g_all"
   ]
  },
  {
   "cell_type": "code",
   "execution_count": 12,
   "metadata": {},
   "outputs": [
    {
     "data": {
      "text/html": [
       "<div>\n",
       "<style scoped>\n",
       "    .dataframe tbody tr th:only-of-type {\n",
       "        vertical-align: middle;\n",
       "    }\n",
       "\n",
       "    .dataframe tbody tr th {\n",
       "        vertical-align: top;\n",
       "    }\n",
       "\n",
       "    .dataframe thead th {\n",
       "        text-align: right;\n",
       "    }\n",
       "</style>\n",
       "<table border=\"1\" class=\"dataframe\">\n",
       "  <thead>\n",
       "    <tr style=\"text-align: right;\">\n",
       "      <th></th>\n",
       "      <th>player</th>\n",
       "      <th>number</th>\n",
       "      <th>team</th>\n",
       "    </tr>\n",
       "  </thead>\n",
       "  <tbody>\n",
       "    <tr>\n",
       "      <th>0</th>\n",
       "      <td>彭政閔</td>\n",
       "      <td>23</td>\n",
       "      <td>兄弟象</td>\n",
       "    </tr>\n",
       "    <tr>\n",
       "      <th>1</th>\n",
       "      <td>林智勝</td>\n",
       "      <td>32</td>\n",
       "      <td>兄弟象</td>\n",
       "    </tr>\n",
       "    <tr>\n",
       "      <th>2</th>\n",
       "      <td>郭阜林</td>\n",
       "      <td>5</td>\n",
       "      <td>統一獅</td>\n",
       "    </tr>\n",
       "    <tr>\n",
       "      <th>3</th>\n",
       "      <td>詹子賢</td>\n",
       "      <td>39</td>\n",
       "      <td>兄弟象</td>\n",
       "    </tr>\n",
       "  </tbody>\n",
       "</table>\n",
       "</div>"
      ],
      "text/plain": [
       "  player  number team\n",
       "0    彭政閔      23  兄弟象\n",
       "1    林智勝      32  兄弟象\n",
       "2    郭阜林       5  統一獅\n",
       "3    詹子賢      39  兄弟象"
      ]
     },
     "execution_count": 12,
     "metadata": {},
     "output_type": "execute_result"
    }
   ],
   "source": [
    "#合併欄位名稱不相同\n",
    "g_num = pd.DataFrame({'player':['彭政閔','林智勝','郭阜林','詹子賢'],\n",
    "                        'number':[23,32,5,39]})\n",
    "g_team = pd.DataFrame({'name':['彭政閔','郭阜林','林智勝','詹子賢'],\n",
    "                        'team':['兄弟象','統一獅','兄弟象','兄弟象']})\n",
    "pd.merge(g_num, g_team, left_on=\"player\", right_on=\"name\").drop('name',axis=1)"
   ]
  },
  {
   "cell_type": "code",
   "execution_count": 17,
   "metadata": {},
   "outputs": [
    {
     "data": {
      "text/html": [
       "<div>\n",
       "<style scoped>\n",
       "    .dataframe tbody tr th:only-of-type {\n",
       "        vertical-align: middle;\n",
       "    }\n",
       "\n",
       "    .dataframe tbody tr th {\n",
       "        vertical-align: top;\n",
       "    }\n",
       "\n",
       "    .dataframe thead th {\n",
       "        text-align: right;\n",
       "    }\n",
       "</style>\n",
       "<table border=\"1\" class=\"dataframe\">\n",
       "  <thead>\n",
       "    <tr style=\"text-align: right;\">\n",
       "      <th></th>\n",
       "      <th>player</th>\n",
       "      <th>number_職棒</th>\n",
       "      <th>number_國家隊</th>\n",
       "    </tr>\n",
       "  </thead>\n",
       "  <tbody>\n",
       "    <tr>\n",
       "      <th>0</th>\n",
       "      <td>彭政閔</td>\n",
       "      <td>23</td>\n",
       "      <td>23</td>\n",
       "    </tr>\n",
       "    <tr>\n",
       "      <th>1</th>\n",
       "      <td>林智勝</td>\n",
       "      <td>32</td>\n",
       "      <td>31</td>\n",
       "    </tr>\n",
       "    <tr>\n",
       "      <th>2</th>\n",
       "      <td>陳江和</td>\n",
       "      <td>31</td>\n",
       "      <td>8</td>\n",
       "    </tr>\n",
       "    <tr>\n",
       "      <th>3</th>\n",
       "      <td>張正偉</td>\n",
       "      <td>8</td>\n",
       "      <td>59</td>\n",
       "    </tr>\n",
       "  </tbody>\n",
       "</table>\n",
       "</div>"
      ],
      "text/plain": [
       "  player  number_職棒  number_國家隊\n",
       "0    彭政閔         23          23\n",
       "1    林智勝         32          31\n",
       "2    陳江和         31           8\n",
       "3    張正偉          8          59"
      ]
     },
     "execution_count": 17,
     "metadata": {},
     "output_type": "execute_result"
    }
   ],
   "source": [
    "#重複列名稱加上後綴\n",
    "CPBL_num = pd.DataFrame({'player':['彭政閔','林智勝','陳江和','張正偉'],\n",
    "                        'number':[23,32,31,8]})\n",
    "CT_num = pd.DataFrame({'player':['彭政閔','林智勝','陳江和','張正偉'],\n",
    "                        'number':[23,31,8,59]})\n",
    "pd.merge(CPBL_num, CT_num, on=\"player\", suffixes=[\"_職棒\",\"_國家隊\"])"
   ]
  }
 ],
 "metadata": {
  "kernelspec": {
   "display_name": "Python 3",
   "language": "python",
   "name": "python3"
  },
  "language_info": {
   "codemirror_mode": {
    "name": "ipython",
    "version": 3
   },
   "file_extension": ".py",
   "mimetype": "text/x-python",
   "name": "python",
   "nbconvert_exporter": "python",
   "pygments_lexer": "ipython3",
   "version": "3.6.7"
  }
 },
 "nbformat": 4,
 "nbformat_minor": 2
}
