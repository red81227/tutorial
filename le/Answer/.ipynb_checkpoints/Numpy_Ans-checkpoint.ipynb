{
 "cells": [
  {
   "cell_type": "markdown",
   "metadata": {
    "collapsed": true
   },
   "source": [
    "# 向量導向的計算方式\n",
    "\n",
    "## 1. Python 正規套件讀法\n",
    "\n",
    "我們在一開始就用了一個魔術指令\n",
    "\n",
    "    %pylab inline\n",
    "    \n",
    "但這個其實現在不太建議, 因為會讓套件讀入有點混亂。主要讀入兩個套件\n",
    "\n",
    "* `matplotlib`: 畫圖的標準套件\n",
    "* `numpy`: 數學計算的標準套件\n",
    "\n",
    "而且用了很多種不同方式讀入, 我們現在導向「正規」方式。"
   ]
  },
  {
   "cell_type": "markdown",
   "metadata": {},
   "source": [
    "#### 標準套件讀入方式 1\n",
    "\n",
    "```python\n",
    "from 套件 import 指定函數\n",
    "```\n",
    "\n",
    "以後就可以直接用我們引入的函數! 比如說:\n",
    "\n",
    "```python\n",
    "from numpy import sin\n",
    "```\n",
    "\n",
    "以後可直接用 sin 函數。有些時候我們用:\n",
    "\n",
    "```python\n",
    "from 套件 import *\n",
    "```\n",
    "\n",
    "這就是那套件所有函數都進來! 這不太建議, 雖然用來方便。"
   ]
  },
  {
   "cell_type": "markdown",
   "metadata": {},
   "source": [
    "### 例子\n",
    "\n",
    "    from random import randint\n",
    "    from numpy.random import randint\n",
    "    \n",
    "這兩個看來一模一樣的, 其實有點小小差別。"
   ]
  },
  {
   "cell_type": "code",
   "execution_count": null,
   "metadata": {},
   "outputs": [],
   "source": []
  },
  {
   "cell_type": "markdown",
   "metadata": {},
   "source": [
    "#### 套件標準讀入方式 2\n",
    "\n",
    "第二個方式也許是最標準的:\n",
    "\n",
    "```python\n",
    "import numpy\n",
    "```\n",
    "\n",
    "這樣我們可以不用先計畫好到底要哪些函數, 全都可以用而且也不會亂掉。因為比如要算 sin(3), 就會變成\n",
    "\n",
    "```python\n",
    "numpy.sin(3)\n",
    "```\n",
    "\n",
    "等等, 這有人會這樣做嗎? 這不會發瘋嗎? Python 還提供了縮寫, 我們自己愛怎麼叫這個套件就怎麼叫。有趣的是, 一些知名套件都有「標準」縮寫方式。用「正確」的方式人家都覺得我們是行家。比如說\n",
    "\n",
    "```python\n",
    "import numpy as np\n",
    "```\n",
    "\n",
    "這之後就可以用\n",
    "\n",
    "```python\n",
    "np.sin(3)\n",
    "```\n",
    "\n",
    "來算 sin(3) 了。"
   ]
  },
  {
   "cell_type": "code",
   "execution_count": null,
   "metadata": {},
   "outputs": [],
   "source": []
  },
  {
   "cell_type": "markdown",
   "metadata": {},
   "source": [
    "#### 標準 Jupyter 數據分析設定\n",
    "\n",
    "以後一開始用 Jupyter 我們都打入這串, 大家就覺得我們是內行的。"
   ]
  },
  {
   "cell_type": "code",
   "execution_count": 2,
   "metadata": {},
   "outputs": [],
   "source": [
    "%matplotlib inline\n",
    "import numpy as np\n",
    "import matplotlib.pyplot as plt"
   ]
  },
  {
   "cell_type": "code",
   "execution_count": null,
   "metadata": {},
   "outputs": [],
   "source": []
  },
  {
   "cell_type": "markdown",
   "metadata": {},
   "source": [
    "## 2. Array 真是太炫了\n",
    "\n",
    "科學計算一個很核心的概念叫 \"array oriented\" 的寫法。Array 是 `numpy` 標準的資料結構, 和 list 很像, 但就差了那麼一點點。而這一點點讓我們在計算上是無比的方便。"
   ]
  },
  {
   "cell_type": "markdown",
   "metadata": {},
   "source": [
    "### 練習 (匯率換算)\n",
    "\n",
    "假設今天我想查查號稱 Pentax 三公主的 31mm, 43mm, 77mm 三隻 limited 鏡頭在美國賣多少。於是我去 B&H 查了他們的價格分別是:\n",
    "\n",
    "    prices = [1096.95, 596.95, 896.95]\n",
    "    \n",
    "我又查了 Google 匯率 1 美金為 31.34 元。請把三支鏡頭的價格換算為台幣。"
   ]
  },
  {
   "cell_type": "markdown",
   "metadata": {},
   "source": [
    "#### 解一: 迴圈版"
   ]
  },
  {
   "cell_type": "code",
   "execution_count": 2,
   "metadata": {},
   "outputs": [
    {
     "name": "stdout",
     "output_type": "stream",
     "text": [
      "34378.413\n",
      "18708.413\n",
      "28110.413\n"
     ]
    }
   ],
   "source": [
    "prices = [1096.95, 596.95, 896.95]\n",
    "e = 31.34\n",
    "\n",
    "for uniprice in prices:\n",
    "    print(uniprice * e)"
   ]
  },
  {
   "cell_type": "markdown",
   "metadata": {},
   "source": [
    "#### 解二: array 版"
   ]
  },
  {
   "cell_type": "code",
   "execution_count": 3,
   "metadata": {},
   "outputs": [
    {
     "data": {
      "text/plain": [
       "array([34378.413, 18708.413, 28110.413])"
      ]
     },
     "execution_count": 3,
     "metadata": {},
     "output_type": "execute_result"
    }
   ],
   "source": [
    "a_prices = np.array(prices)\n",
    "a_prices * e"
   ]
  },
  {
   "cell_type": "markdown",
   "metadata": {},
   "source": [
    "### 練習 (成績計算)\n",
    "\n",
    "一位老師成績這樣算的:\n",
    "\n",
    "* 平時成績 20%\n",
    "* 期中考   35%\n",
    "* 期未考   45%\n",
    "\n",
    "有位同學\n",
    "\n",
    "* 平時成績 85 分\n",
    "* 期中 70 分\n",
    "* 期末 80 分\n",
    "\n",
    "這位同學的學期成績是多少?"
   ]
  },
  {
   "cell_type": "code",
   "execution_count": 9,
   "metadata": {
    "scrolled": true
   },
   "outputs": [
    {
     "data": {
      "text/plain": [
       "232.5"
      ]
     },
     "execution_count": 9,
     "metadata": {},
     "output_type": "execute_result"
    }
   ],
   "source": [
    "grades = np.array([[85,70,80],[85,70,80],[85,70,80]])\n",
    "w = np.array([0.2,0.35,0.45])\n",
    "\n",
    "g = grades * w\n",
    "g.sum()"
   ]
  },
  {
   "cell_type": "code",
   "execution_count": 10,
   "metadata": {},
   "outputs": [
    {
     "data": {
      "text/plain": [
       "array([77.5, 77.5, 77.5])"
      ]
     },
     "execution_count": 10,
     "metadata": {},
     "output_type": "execute_result"
    }
   ],
   "source": [
    "np.dot(grades,w)"
   ]
  },
  {
   "cell_type": "markdown",
   "metadata": {},
   "source": [
    "### 練習 (成績計算之 2)\n",
    "\n",
    "一個班上當然不只一位同學, 很多同學難道我們就需要 `for` 迴圈嗎?"
   ]
  },
  {
   "cell_type": "code",
   "execution_count": 6,
   "metadata": {},
   "outputs": [],
   "source": [
    "multi_grades = np.array([[92, 18, 54], \n",
    " [85, 90, 20],\n",
    " [39, 55, 60],\n",
    " [77, 87, 97]])"
   ]
  },
  {
   "cell_type": "markdown",
   "metadata": {
    "collapsed": true
   },
   "source": [
    "很重要的是, 我們來瞭解這個陣列的 shape"
   ]
  },
  {
   "cell_type": "code",
   "execution_count": 7,
   "metadata": {},
   "outputs": [
    {
     "data": {
      "text/plain": [
       "(4, 3)"
      ]
     },
     "execution_count": 7,
     "metadata": {},
     "output_type": "execute_result"
    }
   ],
   "source": [
    "multi_grades.shape"
   ]
  },
  {
   "cell_type": "markdown",
   "metadata": {},
   "source": [
    "基本上就想成 4x3 的矩陣。\n",
    "\n",
    "不過也可以想成, 有 4 個元素 (4 位同學) 的 array, 每個元素就是一位同學的成績。\n",
    "\n",
    "所以這樣就可以算所有同學的成績, 基本上和向量的純量乘法一樣意思, 想得通嗎?"
   ]
  },
  {
   "cell_type": "code",
   "execution_count": 8,
   "metadata": {},
   "outputs": [
    {
     "data": {
      "text/plain": [
       "array([49.  , 57.5 , 54.05, 89.5 ])"
      ]
     },
     "execution_count": 8,
     "metadata": {},
     "output_type": "execute_result"
    }
   ],
   "source": [
    "np.dot(multi_grades, w)"
   ]
  },
  {
   "cell_type": "code",
   "execution_count": null,
   "metadata": {},
   "outputs": [],
   "source": []
  },
  {
   "cell_type": "code",
   "execution_count": null,
   "metadata": {},
   "outputs": [],
   "source": []
  },
  {
   "cell_type": "markdown",
   "metadata": {},
   "source": [
    "### 重要的 array 大變身!\n",
    "我們在數據分析, 常常要改 array 的型式。"
   ]
  },
  {
   "cell_type": "markdown",
   "metadata": {
    "collapsed": true
   },
   "source": [
    "[練習] 一個 50 個數字的 array\n",
    "先想辦法、用亂數做出 50 個數字的 array, 叫做 A 好了。"
   ]
  },
  {
   "cell_type": "code",
   "execution_count": 9,
   "metadata": {},
   "outputs": [],
   "source": [
    "A = np.random.rand(50)"
   ]
  },
  {
   "cell_type": "code",
   "execution_count": 10,
   "metadata": {},
   "outputs": [
    {
     "data": {
      "text/plain": [
       "array([0.75505597, 0.14885645, 0.58504354, 0.96473644, 0.07209629,\n",
       "       0.74856832, 0.96094784, 0.97093384, 0.44539296, 0.33143046,\n",
       "       0.05126298, 0.19751883, 0.09093916, 0.75335351, 0.58882817,\n",
       "       0.92028333, 0.88767066, 0.77105558, 0.79379583, 0.3271796 ,\n",
       "       0.22983539, 0.44328391, 0.51365335, 0.28830747, 0.08217561,\n",
       "       0.25675173, 0.21500249, 0.68404272, 0.06424879, 0.85093757,\n",
       "       0.24960045, 0.61511839, 0.78905834, 0.84938299, 0.65992814,\n",
       "       0.51949716, 0.39300102, 0.81590656, 0.16862306, 0.82893383,\n",
       "       0.95125372, 0.278686  , 0.4780232 , 0.23235489, 0.05510618,\n",
       "       0.72936296, 0.30919086, 0.8832146 , 0.39145142, 0.66497693])"
      ]
     },
     "execution_count": 10,
     "metadata": {},
     "output_type": "execute_result"
    }
   ],
   "source": [
    "A"
   ]
  },
  {
   "cell_type": "markdown",
   "metadata": {},
   "source": [
    "檢查 A 的 shape"
   ]
  },
  {
   "cell_type": "code",
   "execution_count": 11,
   "metadata": {},
   "outputs": [
    {
     "data": {
      "text/plain": [
       "(50,)"
      ]
     },
     "execution_count": 11,
     "metadata": {},
     "output_type": "execute_result"
    }
   ],
   "source": [
    "A.shape"
   ]
  },
  {
   "cell_type": "markdown",
   "metadata": {},
   "source": [
    "更改 A 的 shape"
   ]
  },
  {
   "cell_type": "code",
   "execution_count": 12,
   "metadata": {},
   "outputs": [],
   "source": [
    "A.shape = (5,10)"
   ]
  },
  {
   "cell_type": "code",
   "execution_count": 13,
   "metadata": {
    "scrolled": true
   },
   "outputs": [
    {
     "data": {
      "text/plain": [
       "array([[0.75505597, 0.14885645, 0.58504354, 0.96473644, 0.07209629,\n",
       "        0.74856832, 0.96094784, 0.97093384, 0.44539296, 0.33143046],\n",
       "       [0.05126298, 0.19751883, 0.09093916, 0.75335351, 0.58882817,\n",
       "        0.92028333, 0.88767066, 0.77105558, 0.79379583, 0.3271796 ],\n",
       "       [0.22983539, 0.44328391, 0.51365335, 0.28830747, 0.08217561,\n",
       "        0.25675173, 0.21500249, 0.68404272, 0.06424879, 0.85093757],\n",
       "       [0.24960045, 0.61511839, 0.78905834, 0.84938299, 0.65992814,\n",
       "        0.51949716, 0.39300102, 0.81590656, 0.16862306, 0.82893383],\n",
       "       [0.95125372, 0.278686  , 0.4780232 , 0.23235489, 0.05510618,\n",
       "        0.72936296, 0.30919086, 0.8832146 , 0.39145142, 0.66497693]])"
      ]
     },
     "execution_count": 13,
     "metadata": {},
     "output_type": "execute_result"
    }
   ],
   "source": [
    "A"
   ]
  },
  {
   "cell_type": "code",
   "execution_count": 14,
   "metadata": {
    "scrolled": true
   },
   "outputs": [],
   "source": [
    "A = A.reshape(5,10)"
   ]
  },
  {
   "cell_type": "code",
   "execution_count": null,
   "metadata": {},
   "outputs": [],
   "source": []
  },
  {
   "cell_type": "markdown",
   "metadata": {},
   "source": [
    "## 4. Array 讓畫圖更方便\n",
    "\n",
    "這裡介紹用 array 來畫圖, 還有 subplots 的用法。"
   ]
  },
  {
   "cell_type": "markdown",
   "metadata": {
    "collapsed": true
   },
   "source": [
    "基本畫圖法"
   ]
  },
  {
   "cell_type": "code",
   "execution_count": 15,
   "metadata": {},
   "outputs": [
    {
     "data": {
      "text/plain": [
       "[<matplotlib.lines.Line2D at 0x243fcfdd3c8>]"
      ]
     },
     "execution_count": 15,
     "metadata": {},
     "output_type": "execute_result"
    },
    {
     "data": {
      "image/png": "[encoded data removed]",
      "text/plain": [
       "<Figure size 432x288 with 1 Axes>"
      ]
     },
     "metadata": {
      "needs_background": "light"
     },
     "output_type": "display_data"
    }
   ],
   "source": [
    "plt.plot([1.2, 2, 2.7, 4], [3, -5, 7, 2])"
   ]
  },
  {
   "cell_type": "markdown",
   "metadata": {},
   "source": [
    "plot 一個函數\n",
    "我們先用 np.linspace 在 x 的指定範圍中取指定個點。"
   ]
  },
  {
   "cell_type": "code",
   "execution_count": 16,
   "metadata": {},
   "outputs": [],
   "source": [
    "x = np.linspace(0, 10, 100)"
   ]
  },
  {
   "cell_type": "markdown",
   "metadata": {},
   "source": [
    "畫出\n",
    "\n",
    "            𝑓(𝑥)=sin(𝑥)+𝑥"
   ]
  },
  {
   "cell_type": "code",
   "execution_count": 17,
   "metadata": {},
   "outputs": [
    {
     "data": {
      "text/plain": [
       "[<matplotlib.lines.Line2D at 0x243fd069a58>]"
      ]
     },
     "execution_count": 17,
     "metadata": {},
     "output_type": "execute_result"
    },
    {
     "data": {
      "image/png": "[encoded data removed]",
      "text/plain": [
       "<Figure size 432x288 with 1 Axes>"
      ]
     },
     "metadata": {
      "needs_background": "light"
     },
     "output_type": "display_data"
    }
   ],
   "source": [
    "plt.plot(x, np.sin(x) + x)"
   ]
  },
  {
   "cell_type": "markdown",
   "metadata": {},
   "source": [
    "同時畫兩個函數"
   ]
  },
  {
   "cell_type": "code",
   "execution_count": 18,
   "metadata": {},
   "outputs": [
    {
     "data": {
      "text/plain": [
       "[<matplotlib.lines.Line2D at 0x243fca965f8>]"
      ]
     },
     "execution_count": 18,
     "metadata": {},
     "output_type": "execute_result"
    },
    {
     "data": {
      "image/png": "[encoded data removed]",
      "text/plain": [
       "<Figure size 432x288 with 1 Axes>"
      ]
     },
     "metadata": {
      "needs_background": "light"
     },
     "output_type": "display_data"
    }
   ],
   "source": [
    "x = np.linspace(0, 10, 100)\n",
    "\n",
    "plt.plot(x, np.sin(x) + x)\n",
    "plt.plot(x, np.cos(3*x))"
   ]
  },
  {
   "cell_type": "markdown",
   "metadata": {},
   "source": [
    "介紹 subplot"
   ]
  },
  {
   "cell_type": "code",
   "execution_count": 19,
   "metadata": {},
   "outputs": [
    {
     "data": {
      "text/plain": [
       "[<matplotlib.lines.Line2D at 0x243fd0f5780>]"
      ]
     },
     "execution_count": 19,
     "metadata": {},
     "output_type": "execute_result"
    },
    {
     "data": {
      "image/png": "[encoded data removed]",
      "text/plain": [
       "<Figure size 432x288 with 2 Axes>"
      ]
     },
     "metadata": {
      "needs_background": "light"
     },
     "output_type": "display_data"
    }
   ],
   "source": [
    "x = np.linspace(0, 10, 100)\n",
    "\n",
    "# 圖 1\n",
    "plt.subplot(211)\n",
    "plt.plot(x, np.sin(x) + x)\n",
    "\n",
    "# 圖 2\n",
    "plt.subplot(212)\n",
    "plt.plot(x, np.cos(3*x))"
   ]
  },
  {
   "cell_type": "markdown",
   "metadata": {},
   "source": [
    "## 5. 快取我們要的部份\n",
    "\n",
    "`array` 有個很有趣的用法..."
   ]
  },
  {
   "cell_type": "code",
   "execution_count": 20,
   "metadata": {},
   "outputs": [],
   "source": [
    "L = np.array([3, -2, -1, 5, 7, -3])"
   ]
  },
  {
   "cell_type": "markdown",
   "metadata": {},
   "source": [
    "取出正的數值"
   ]
  },
  {
   "cell_type": "code",
   "execution_count": 21,
   "metadata": {},
   "outputs": [
    {
     "data": {
      "text/plain": [
       "array([ True, False, False,  True,  True, False])"
      ]
     },
     "execution_count": 21,
     "metadata": {},
     "output_type": "execute_result"
    }
   ],
   "source": [
    "L>0"
   ]
  },
  {
   "cell_type": "code",
   "execution_count": 22,
   "metadata": {},
   "outputs": [
    {
     "data": {
      "text/plain": [
       "array([3, 5, 7])"
      ]
     },
     "execution_count": 22,
     "metadata": {},
     "output_type": "execute_result"
    }
   ],
   "source": [
    "L[L>0]"
   ]
  },
  {
   "cell_type": "markdown",
   "metadata": {},
   "source": [
    "[練習] 畫個函數 (如  sinc ), 標出正的部份!"
   ]
  },
  {
   "cell_type": "code",
   "execution_count": 23,
   "metadata": {},
   "outputs": [
    {
     "data": {
      "text/plain": [
       "[<matplotlib.lines.Line2D at 0x243fd16def0>]"
      ]
     },
     "execution_count": 23,
     "metadata": {},
     "output_type": "execute_result"
    },
    {
     "data": {
      "image/png": "[encoded data removed]",
      "text/plain": [
       "<Figure size 432x288 with 1 Axes>"
      ]
     },
     "metadata": {
      "needs_background": "light"
     },
     "output_type": "display_data"
    }
   ],
   "source": [
    "x = np.linspace(-5, 5, 200)\n",
    "y = np.sinc(x)\n",
    "\n",
    "plt.plot(x, y)\n",
    "plt.plot(x[y>0], y[y>0], 'o')"
   ]
  },
  {
   "cell_type": "code",
   "execution_count": null,
   "metadata": {},
   "outputs": [],
   "source": []
  }
 ],
 "metadata": {
  "kernelspec": {
   "display_name": "Python 3",
   "language": "python",
   "name": "python3"
  },
  "language_info": {
   "codemirror_mode": {
    "name": "ipython",
    "version": 3
   },
   "file_extension": ".py",
   "mimetype": "text/x-python",
   "name": "python",
   "nbconvert_exporter": "python",
   "pygments_lexer": "ipython3",
   "version": "3.6.7"
  }
 },
 "nbformat": 4,
 "nbformat_minor": 2
}
