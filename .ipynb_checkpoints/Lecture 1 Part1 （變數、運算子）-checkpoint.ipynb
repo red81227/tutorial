{
 "cells": [
  {
   "cell_type": "markdown",
   "metadata": {},
   "source": [
    "# 你的第一個 Python 程式\n",
    "\n",
    "讓電腦印出 `Hello World!!!` \n",
    "\n",
    "```python\n",
    "# 讓電腦印出 Hello World! 字串\n",
    "print(\"Hello World!!!\")\n",
    "```\n"
   ]
  },
  {
   "cell_type": "code",
   "execution_count": null,
   "metadata": {},
   "outputs": [],
   "source": []
  },
  {
   "cell_type": "markdown",
   "metadata": {},
   "source": [
    "# 數字的運算\n",
    "\n",
    "我們需要學會如何用 python 表達加減乘除等不同的運算\n",
    "\n",
    "\n",
    "# 範例\n",
    "\n",
    "```python\n",
    "100 + 1\n",
    "# 101\n",
    "```\n"
   ]
  },
  {
   "cell_type": "code",
   "execution_count": null,
   "metadata": {},
   "outputs": [],
   "source": []
  },
  {
   "cell_type": "code",
   "execution_count": null,
   "metadata": {},
   "outputs": [],
   "source": []
  },
  {
   "cell_type": "code",
   "execution_count": null,
   "metadata": {},
   "outputs": [],
   "source": []
  },
  {
   "cell_type": "markdown",
   "metadata": {},
   "source": [
    "\n",
    "## 運算子\n",
    " \n",
    "注意 Python 的運算順序和數學是一樣的，下表以計算的優先等級列出數學運算子：\n",
    "\n",
    "| 運算子 | 功能          | 實例    | 結果  |\n",
    "| :----: | :-----------: | :-----: | :---: |\n",
    "| **     | 指數          | 2 ** 3  | 8     |\n",
    "| %      | 模數/餘數     | 10 % 3  | 1     |\n",
    "| //     | 整數/商數取整 | 10 // 3 | 3     |\n",
    "| /      | 除法          | 22 / 8  | 2.75  |\n",
    "| *      | 乘法          | 2 * 3   | 6     |\n",
    "| -      | 減法          | 5 - 2   | 3     |\n",
    "| +      | 加法          | 2 + 3   | 5     |\n",
    "\n",
    "---\n",
    "# 練習：計算 1 加到 100\n",
    "\n",
    "提示：梯形公式 [Wiki 連結](https://zh.wikipedia.org/wiki/%E6%A2%AF%E5%BD%A2%E5%85%AC%E5%BC%8F)\n"
   ]
  },
  {
   "cell_type": "code",
   "execution_count": null,
   "metadata": {},
   "outputs": [],
   "source": []
  },
  {
   "cell_type": "markdown",
   "metadata": {},
   "source": [
    "# 變數（Variable）\n",
    "\n",
    "用法就如同代數裡的變數，可以將資料：\n",
    "\n",
    "```python\n",
    "name = \"Eugene\"\n",
    "```\n",
    "\n",
    "可使用等號 `=` 對變數賦值\n",
    "\n",
    "簡單來講就是我要把**等號右邊的東西賦值給等號左邊所代表的東西**\n",
    "\n",
    "# 變數（Variable）\n",
    "\n",
    "不同於 C 或 Java 等強型別語言：\n",
    "\n",
    "```c\n",
    "// 需明確宣告資料型別\n",
    "char name[6] = \"Eugene\";\n",
    "```\n",
    "\n",
    "Python 是`弱型別語言`，無需明確的宣告變數的型別:\n",
    "```python\n",
    "name = \"Eugene\"\n",
    "print(name)\n",
    "# 'Eugene'\n",
    "```\n",
    "\n",
    "**意味著開發效率會大幅提昇**\n"
   ]
  },
  {
   "cell_type": "code",
   "execution_count": null,
   "metadata": {},
   "outputs": [],
   "source": []
  },
  {
   "cell_type": "markdown",
   "metadata": {},
   "source": [
    "# 變數的命名\n",
    "\n",
    "一般的命名慣例是越清晰越好\n",
    "\n",
    "```python\n",
    "num = 123\n",
    "print(x)\n",
    "```\n",
    "\n",
    "若名字有多個英文字，字與字之間可使用底綫 “_” 連接 \n",
    "```python\n",
    "my_var = 456\n",
    "print(my_var)\n",
    "```\n",
    "\n",
    "可使用數字\n",
    "```python\n",
    "var1 = 789\n",
    "print(var_1)\n",
    "```\n",
    "\n",
    "但是數字不可成爲一個變數名稱的第一個字母\n",
    "```python\n",
    "1_var = 101\n",
    "print(1_var)\n",
    "```\n",
    "\n",
    "#  PEP8: Python 程式碼規範\n",
    "\n",
    "雖然 Python 對程式碼的規範相對鬆散，但是爲了寫出容易讀懂的程式碼，其實 Python 社群有一些程式碼的風格指南：\n",
    "\n",
    "[PEP8 官方文件](https://www.python.org/dev/peps/pep-0008/)\n",
    "\n",
    "[PEP8 官方文件 中文翻譯(簡)](https://alvinzhu.xyz/2017/10/07/python-pep-8/)\n",
    "\n",
    "---"
   ]
  },
  {
   "cell_type": "code",
   "execution_count": null,
   "metadata": {},
   "outputs": [],
   "source": [
    "\n",
    "\n"
   ]
  },
  {
   "cell_type": "markdown",
   "metadata": {},
   "source": [
    "# 資料型別 (數字)\n",
    "\n",
    "不同型別的資料用於代表不同的值：\n",
    "\n",
    "```python\n",
    "# 整數\n",
    "my_height = 178\n",
    "# 浮點數\n",
    "pi = 3.14\n",
    "```\n"
   ]
  },
  {
   "cell_type": "code",
   "execution_count": null,
   "metadata": {},
   "outputs": [],
   "source": []
  },
  {
   "cell_type": "markdown",
   "metadata": {},
   "source": [
    "# 範例：計算圓面積\n",
    "\n",
    "```python\n",
    "radius = 10\n",
    "area = 3.14 * radius ** 2\n",
    "print(area)\n",
    "```\n",
    "\n",
    "---\n",
    "# 練習1：計算未來價值\n",
    "\n",
    "使用變數做運算，計算出未來七年的本金加複利\n",
    "\n",
    "```python\n",
    "# 本金\n",
    "savings = 100\n",
    "# 利率\n",
    "rate = 1.1\n",
    "result = savings * ____ ** _\n",
    "print(result)\n",
    "```"
   ]
  },
  {
   "cell_type": "code",
   "execution_count": null,
   "metadata": {},
   "outputs": [],
   "source": []
  },
  {
   "cell_type": "markdown",
   "metadata": {},
   "source": [
    "# 運算子優先的例子\n",
    "\n",
    "```python\n",
    "result = 7 - 2 ** 3 + 2 / 4\n",
    "print(result)\n",
    "# -0.5\n",
    "# 2**3 與 2/4 會先被運算\n",
    "```"
   ]
  },
  {
   "cell_type": "code",
   "execution_count": null,
   "metadata": {},
   "outputs": [],
   "source": []
  },
  {
   "cell_type": "markdown",
   "metadata": {},
   "source": [
    "# 練習：計算 BMI 值\n",
    "\n",
    "今天我們來算[體脂數(BMI)](https://zh.wikipedia.org/wiki/%E8%BA%AB%E9%AB%98%E9%AB%94%E9%87%8D%E6%8C%87%E6%95%B8)：\n",
    "\n",
    "```python\n",
    "my_height = ___\n",
    "my_weight = ___\n",
    "bmi = _________\n",
    "print(bmi)\n",
    "```"
   ]
  },
  {
   "cell_type": "code",
   "execution_count": null,
   "metadata": {},
   "outputs": [],
   "source": []
  },
  {
   "cell_type": "markdown",
   "metadata": {},
   "source": [
    "# BMI (解答)\n",
    "\n",
    "今天我們來算體脂數(BMI)：\n",
    "\n",
    "```python\n",
    "my_height = 178\n",
    "my_weight = 72\n",
    "bmi = my_weight / (my_height / 100) ** 2\n",
    "print(bmi)\n",
    "# 22.724403484408533\n",
    "```"
   ]
  },
  {
   "cell_type": "code",
   "execution_count": null,
   "metadata": {},
   "outputs": [],
   "source": []
  },
  {
   "cell_type": "markdown",
   "metadata": {},
   "source": [
    "# 内建函數(Function)\n",
    "\n",
    "`print()`、等...我們還不理解它們，但是一直在使用他們\n",
    "\n",
    "可以想象成用程式碼寫成的數學公式\n",
    "\n",
    "Python 將一些常用的功能都被封裝在函數内，需要使用時呼叫該函數即可\n",
    "\n",
    "---\n",
    "# 函數的使用方法\n",
    "\n",
    "```python\n",
    "函數名稱(引數1, 引數2..)\n",
    "```\n",
    "\n",
    "*和 Excel 的函數很類似\n",
    "\n",
    "---\n",
    "# 註解 (comment)\n",
    "有些時候，你希望能夠將備註 \\ 筆記寫在程式碼旁邊\n",
    "\n",
    "但是會導致程式碼執行錯誤\n",
    "\n"
   ]
  },
  {
   "cell_type": "code",
   "execution_count": null,
   "metadata": {},
   "outputs": [],
   "source": [
    "print(\"Hello World\") 這是我的第一個超酷炫程式"
   ]
  },
  {
   "cell_type": "markdown",
   "metadata": {},
   "source": [
    "# 註解 (comment)\n",
    "\n",
    "在 python 的世界，註解的寫法是用 `#` 符號：\n",
    "\n",
    "```python\n",
    "# 我是註解\n",
    "```"
   ]
  },
  {
   "cell_type": "code",
   "execution_count": null,
   "metadata": {},
   "outputs": [],
   "source": [
    "# print(\"請不要把我印出來！！！\")"
   ]
  },
  {
   "cell_type": "markdown",
   "metadata": {},
   "source": [
    "# input() 函數\n",
    "\n",
    "用於擷取指令列的輸入，以字串的方式賦值給變數\n",
    "\n",
    "```python\n",
    "name = input()\n",
    "```\n",
    "\n",
    "---\n",
    "# 範例：不一樣的 Hello World\n",
    "\n",
    "```python\n",
    "print(\"What is your name?\")\n",
    "name = input()\n",
    "print(\"Hello and welcome to this world, \" + name + \"!\")\n",
    "```\n"
   ]
  },
  {
   "cell_type": "code",
   "execution_count": null,
   "metadata": {},
   "outputs": [],
   "source": []
  },
  {
   "cell_type": "markdown",
   "metadata": {},
   "source": [
    "# 練習：互動式的 BMI 計算機\n",
    "\n",
    "將剛才寫的 `BMI` 計算機改成能夠讓使用者輸入身高和體重的版本  "
   ]
  },
  {
   "cell_type": "code",
   "execution_count": null,
   "metadata": {},
   "outputs": [],
   "source": []
  },
  {
   "cell_type": "markdown",
   "metadata": {},
   "source": [
    "# 練習：互動式的 BMI 計算機\n",
    "\n",
    "但是悲劇發生了...\n",
    "\n",
    "![](https://www.dropbox.com/s/ium77jf3h0a4d8w/2.PNG?dl=1)\n",
    "\n",
    "*注意 `input()` 函數會將任何的輸入都轉成字串\n"
   ]
  },
  {
   "cell_type": "code",
   "execution_count": null,
   "metadata": {},
   "outputs": [],
   "source": []
  },
  {
   "cell_type": "markdown",
   "metadata": {},
   "source": [
    "# 練習：互動式的 BMI 計算機\n",
    "\n",
    "所以我們就使用 `int()` 函數將輸入轉換成整數\n",
    "\n",
    "```python\n",
    "print(\"please enter your height(cm): \")\n",
    "my_height = int(input())\n",
    "print(\"please enter your weight(kg):\")\n",
    "my_weight = int(input())\n",
    "\n",
    "bmi = my_weight / (my_height / 100) ** 2\n",
    "print(bmi)\n",
    "```\n",
    "\n",
    "---"
   ]
  },
  {
   "cell_type": "code",
   "execution_count": null,
   "metadata": {},
   "outputs": [],
   "source": []
  },
  {
   "cell_type": "markdown",
   "metadata": {},
   "source": [
    "# 練習資源 \n",
    "\n",
    "DataCamp： [連結](https://www.datacamp.com/home)\n",
    "\n",
    "CodeCademy： [連結](https://www.codecademy.com/)"
   ]
  },
  {
   "cell_type": "code",
   "execution_count": null,
   "metadata": {},
   "outputs": [],
   "source": []
  }
 ],
 "metadata": {
  "kernelspec": {
   "display_name": "Python 3",
   "language": "python",
   "name": "python3"
  },
  "language_info": {
   "codemirror_mode": {
    "name": "ipython",
    "version": 3
   },
   "file_extension": ".py",
   "mimetype": "text/x-python",
   "name": "python",
   "nbconvert_exporter": "python",
   "pygments_lexer": "ipython3",
   "version": "3.6.7"
  }
 },
 "nbformat": 4,
 "nbformat_minor": 2
}
