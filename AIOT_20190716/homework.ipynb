{
 "cells": [
  {
   "cell_type": "code",
   "execution_count": 1,
   "metadata": {},
   "outputs": [],
   "source": [
    "import numpy as np\n",
    "def get_mapdate():\n",
    "    m1 = 263\n",
    "    n1 = 303       \n",
    "    # lontitude 經度 x\n",
    "    wrf_lon = \"./wrf_lon\"\n",
    "    # latitude 緯度 y\n",
    "    wrf_lat = \"./wrf_lat\"\n",
    "    \n",
    "    with open(wrf_lon, \"rb\") as lonf:\n",
    "        lonfield = np.fromfile(lonf, dtype=np.float, count = m1*n1)\n",
    "    lonfield = lonfield.reshape((n1, m1))\n",
    "    ori_lonfieldT = lonfield.T\n",
    "    \n",
    "    with open(wrf_lat, \"rb\") as latf:\n",
    "        latfield = np.fromfile(latf, dtype=np.float, count = m1*n1)\n",
    "    latfield = latfield[::-1]\n",
    "    latfield = latfield.reshape((n1, m1))\n",
    "    ori_latfieldT = latfield.T\n",
    "    \n",
    "    return ori_lonfieldT, ori_latfieldT\n"
   ]
  },
  {
   "cell_type": "code",
   "execution_count": 2,
   "metadata": {},
   "outputs": [],
   "source": [
    "lon, lat =  get_mapdate()"
   ]
  },
  {
   "cell_type": "code",
   "execution_count": 3,
   "metadata": {},
   "outputs": [],
   "source": [
    "ans_code = np.array(range(263*303)).reshape(263,303)"
   ]
  },
  {
   "cell_type": "markdown",
   "metadata": {},
   "source": [
    "有三個矩陣，lon代表東經，lat代表北緯，ans_code為解答碼，三個矩陣同位置為一組數字。例如，lon[0,0]為117.46441650390625，lat[0,0]為27.835664749145508，ans_code[0,0]為0。表示在座標上東經117.46441650390625，北緯27.835664749145508這個位置點的讀值為0。假設經度相差一度差90公里，緯度相差一度100公里。請問離台灣四大燈塔:富貴角燈塔、三貂角燈塔、鵝鑾鼻燈塔、國聖燈塔個別最近點的讀值相加為多少? \n",
    "提示: np.where()"
   ]
  },
  {
   "cell_type": "code",
   "execution_count": null,
   "metadata": {},
   "outputs": [],
   "source": []
  }
 ],
 "metadata": {
  "kernelspec": {
   "display_name": "Python 3",
   "language": "python",
   "name": "python3"
  },
  "language_info": {
   "codemirror_mode": {
    "name": "ipython",
    "version": 3
   },
   "file_extension": ".py",
   "mimetype": "text/x-python",
   "name": "python",
   "nbconvert_exporter": "python",
   "pygments_lexer": "ipython3",
   "version": "3.6.7"
  }
 },
 "nbformat": 4,
 "nbformat_minor": 2
}
